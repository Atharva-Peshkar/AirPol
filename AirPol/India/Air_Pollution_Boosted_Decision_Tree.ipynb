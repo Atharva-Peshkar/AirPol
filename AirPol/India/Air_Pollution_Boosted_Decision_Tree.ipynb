{
  "nbformat": 4,
  "nbformat_minor": 0,
  "metadata": {
    "colab": {
      "name": "Air Pollution Boosted Decision Tree.ipynb",
      "provenance": [],
      "collapsed_sections": []
    },
    "kernelspec": {
      "name": "python3",
      "display_name": "Python 3"
    },
    "accelerator": "GPU"
  },
  "cells": [
    {
      "cell_type": "markdown",
      "metadata": {
        "id": "rQ47usFW3j1I",
        "colab_type": "text"
      },
      "source": [
        "#Boosted Decision Tree Regression"
      ]
    },
    {
      "cell_type": "markdown",
      "metadata": {
        "id": "zjCXGMBo4Unt",
        "colab_type": "text"
      },
      "source": [
        "##Data preprocessing"
      ]
    },
    {
      "cell_type": "code",
      "metadata": {
        "id": "0pVFaFiheaRX",
        "colab_type": "code",
        "colab": {}
      },
      "source": [
        "import numpy as np\n",
        "import pandas as pd\n",
        "import datetime as dt\n",
        "from scipy import stats\n",
        "import sklearn\n",
        "from sklearn import preprocessing\n",
        "from sklearn.tree import DecisionTreeRegressor\n",
        "from sklearn.ensemble import AdaBoostRegressor\n",
        "from sklearn.model_selection import train_test_split\n",
        "from sklearn.metrics import mean_absolute_error as mae\n",
        "from sklearn.metrics import mean_squared_error as mse"
      ],
      "execution_count": 0,
      "outputs": []
    },
    {
      "cell_type": "code",
      "metadata": {
        "id": "tQ6qtq1nCh-m",
        "colab_type": "code",
        "outputId": "5ed6ee72-6d2b-4160-869b-5c4b22c5b0c7",
        "colab": {
          "base_uri": "https://localhost:8080/"
        }
      },
      "source": [
        "data = pd.read_csv('All India Air Quality Data.csv',encoding='cp1252')                                                                                                                         "
      ],
      "execution_count": 0,
      "outputs": [
        {
          "output_type": "stream",
          "text": [
            "/usr/local/lib/python3.6/dist-packages/IPython/core/interactiveshell.py:2718: DtypeWarning: Columns (0) have mixed types. Specify dtype option on import or set low_memory=False.\n",
            "  interactivity=interactivity, compiler=compiler, result=result)\n"
          ],
          "name": "stderr"
        }
      ]
    },
    {
      "cell_type": "code",
      "metadata": {
        "id": "pJoxZntpPsI9",
        "colab_type": "code",
        "outputId": "99b8721a-1a6c-4f56-803f-c5750ccf97e1",
        "colab": {
          "base_uri": "https://localhost:8080/"
        }
      },
      "source": [
        "print(data.columns)"
      ],
      "execution_count": 0,
      "outputs": [
        {
          "output_type": "stream",
          "text": [
            "Index(['stn_code', 'sampling_date', 'state', 'location', 'agency', 'type',\n",
            "       'so2', 'no2', 'rspm', 'spm', 'location_monitoring_station', 'pm2_5',\n",
            "       'date'],\n",
            "      dtype='object')\n"
          ],
          "name": "stdout"
        }
      ]
    },
    {
      "cell_type": "code",
      "metadata": {
        "id": "T3Ll5Cwxf25y",
        "colab_type": "code",
        "colab": {}
      },
      "source": [
        "encoder = preprocessing.LabelEncoder()\n",
        "regressor = AdaBoostRegressor(DecisionTreeRegressor(),loss='exponential',learning_rate=0.01,n_estimators=100)\n",
        "\n",
        "data['date'] = pd.to_datetime(data['date'])\n",
        "data['date']= data['date'].map(dt.datetime.toordinal)"
      ],
      "execution_count": 0,
      "outputs": []
    },
    {
      "cell_type": "code",
      "metadata": {
        "id": "GblPXSlQig5F",
        "colab_type": "code",
        "colab": {}
      },
      "source": [
        "data = data.fillna(np.nan,axis=0)\n",
        "\n",
        "\n",
        "data['stn_code'] = encoder.fit_transform(data['stn_code'].astype(str))\n",
        "data['state'] = encoder.fit_transform(data['state'])\n",
        "data['location'] = encoder.fit_transform(data['location'].astype(str))\n",
        "data['type'] = encoder.fit_transform(data['type'].astype(str))\n",
        "data['location_monitoring_station'] = encoder.fit_transform(data['location_monitoring_station'].astype(str))"
      ],
      "execution_count": 0,
      "outputs": []
    },
    {
      "cell_type": "code",
      "metadata": {
        "id": "DeVb9mFQsdWR",
        "colab_type": "code",
        "outputId": "7b1951a5-ef9e-412c-9e99-f9766b500c4c",
        "colab": {
          "base_uri": "https://localhost:8080/"
        }
      },
      "source": [
        "print(data['date'].head())"
      ],
      "execution_count": 0,
      "outputs": [
        {
          "output_type": "stream",
          "text": [
            "0    726499\n",
            "1    726499\n",
            "2    726499\n",
            "3    726527\n",
            "4    726527\n",
            "Name: date, dtype: int64\n"
          ],
          "name": "stdout"
        }
      ]
    },
    {
      "cell_type": "markdown",
      "metadata": {
        "id": "NYT_jHn3hOn3",
        "colab_type": "text"
      },
      "source": [
        "##Training Set: 80%  ; Test Set: 20%"
      ]
    },
    {
      "cell_type": "markdown",
      "metadata": {
        "id": "DzPCEh0Pfgca",
        "colab_type": "text"
      },
      "source": [
        "###Sulphur Dioxide"
      ]
    },
    {
      "cell_type": "code",
      "metadata": {
        "id": "aF-HWnOZG7Vj",
        "colab_type": "code",
        "colab": {}
      },
      "source": [
        "dat1 = data[['stn_code','state','location','type','so2','location_monitoring_station','date']]"
      ],
      "execution_count": 0,
      "outputs": []
    },
    {
      "cell_type": "code",
      "metadata": {
        "id": "q_wAK9iWHgTb",
        "colab_type": "code",
        "outputId": "415cd096-ca41-4804-9d9e-84189f46173b",
        "colab": {
          "base_uri": "https://localhost:8080/"
        }
      },
      "source": [
        "dat1['so2'] = dat1['so2'].fillna(np.mean(dat1['so2']),axis=0)"
      ],
      "execution_count": 0,
      "outputs": [
        {
          "output_type": "stream",
          "text": [
            "/usr/local/lib/python3.6/dist-packages/ipykernel_launcher.py:1: SettingWithCopyWarning: \n",
            "A value is trying to be set on a copy of a slice from a DataFrame.\n",
            "Try using .loc[row_indexer,col_indexer] = value instead\n",
            "\n",
            "See the caveats in the documentation: http://pandas.pydata.org/pandas-docs/stable/indexing.html#indexing-view-versus-copy\n",
            "  \"\"\"Entry point for launching an IPython kernel.\n"
          ],
          "name": "stderr"
        }
      ]
    },
    {
      "cell_type": "code",
      "metadata": {
        "id": "qiCQ7gJXFmbx",
        "colab_type": "code",
        "colab": {}
      },
      "source": [
        "z = np.abs(stats.zscore(dat1))   #Detecting outliers\n",
        "dat1 = dat1[(z<3).all(axis=1)]"
      ],
      "execution_count": 0,
      "outputs": []
    },
    {
      "cell_type": "code",
      "metadata": {
        "id": "gM19WsWfZSit",
        "colab_type": "code",
        "colab": {}
      },
      "source": [
        "\n",
        "X1 = dat1[['stn_code','state','location','type','location_monitoring_station','date']]\n",
        "Y1 = dat1['so2']"
      ],
      "execution_count": 0,
      "outputs": []
    },
    {
      "cell_type": "code",
      "metadata": {
        "id": "R2ZM70qwfD-K",
        "colab_type": "code",
        "outputId": "5cfcc503-6e20-4cd9-dd62-e52c5eb729e3",
        "colab": {
          "base_uri": "https://localhost:8080/"
        }
      },
      "source": [
        "\n",
        "X_train1, X_test1, Y_train1, Y_test1 = train_test_split(X1,Y1,test_size=0.2,random_state=0)\n",
        "\n",
        "regressor.fit(X_train1,np.array(Y_train1).reshape(Y_train1.shape[0],1))\n"
      ],
      "execution_count": 0,
      "outputs": [
        {
          "output_type": "stream",
          "text": [
            "/usr/local/lib/python3.6/dist-packages/sklearn/utils/validation.py:724: DataConversionWarning: A column-vector y was passed when a 1d array was expected. Please change the shape of y to (n_samples, ), for example using ravel().\n",
            "  y = column_or_1d(y, warn=True)\n"
          ],
          "name": "stderr"
        }
      ]
    },
    {
      "cell_type": "code",
      "metadata": {
        "id": "cF5xTAu9ag7C",
        "colab_type": "code",
        "colab": {}
      },
      "source": [
        "pred1 = np.array(regressor.predict(X_test1))\n",
        "\n",
        "cod1 = regressor.score(X_test1,np.array(Y_test1).reshape(Y_test1.shape[0],1))\n",
        "ms1 = mse(pred1,np.array(Y_test1).reshape(Y_test1.shape[0],1))\n",
        "ma1 = mae(pred1,np.array(Y_test1).reshape(Y_test1.shape[0],1))"
      ],
      "execution_count": 0,
      "outputs": []
    },
    {
      "cell_type": "code",
      "metadata": {
        "id": "8__8sXEWRKx5",
        "colab_type": "code",
        "outputId": "3da4caaa-a0fc-4424-e663-652c5f63762c",
        "colab": {
          "base_uri": "https://localhost:8080/",
          "height": 272
        }
      },
      "source": [
        "print('*** Evaluation metrics for SO2 ***\\n')\n",
        "print('Coeff. of Determination: ',cod1)\n",
        "print('Mean Squared Error: ',ms1)\n",
        "print('Root Mean Sqaured Error: ',ms1**0.5)\n",
        "print('Mean Absolute Error: ',ma1)\n",
        "a = pd.DataFrame(Y_test1)\n",
        "a['pred']= regressor.predict(X_test1)\n",
        "print('\\n\\tTable 1\\n')\n",
        "print(a.head())"
      ],
      "execution_count": 0,
      "outputs": [
        {
          "output_type": "stream",
          "text": [
            "*** Evaluation metrics for SO2 ***\n",
            "\n",
            "Coeff. of Determination:  0.7304151161196151\n",
            "Mean Squared Error:  14.131107294415953\n",
            "Root Mean Sqaured Error:  3.75913650914887\n",
            "Mean Absolute Error:  1.9016455024561751\n",
            "\n",
            "\tTable 1\n",
            "\n",
            "              so2       pred\n",
            "274567  10.829414  10.829414\n",
            "92536   11.100000  10.100000\n",
            "156357   7.200000  18.100000\n",
            "430792   4.000000   6.000000\n",
            "99593   14.000000  15.000000\n"
          ],
          "name": "stdout"
        }
      ]
    },
    {
      "cell_type": "markdown",
      "metadata": {
        "id": "6rrKa-V1hIIY",
        "colab_type": "text"
      },
      "source": [
        "###Nitrogen Dioxide"
      ]
    },
    {
      "cell_type": "code",
      "metadata": {
        "id": "zWByD6A3he66",
        "colab_type": "code",
        "colab": {}
      },
      "source": [
        "dat2 = data[['stn_code','state','location','type','no2','location_monitoring_station','date']]"
      ],
      "execution_count": 0,
      "outputs": []
    },
    {
      "cell_type": "code",
      "metadata": {
        "id": "2l-KaVDti2pO",
        "colab_type": "code",
        "outputId": "b1c47f04-25c8-49da-c0e4-021c1b5bd525",
        "colab": {
          "base_uri": "https://localhost:8080/",
          "height": 119
        }
      },
      "source": [
        "dat2['no2'] = dat2['no2'].fillna(np.mean(dat2['no2']),axis=0)"
      ],
      "execution_count": 0,
      "outputs": [
        {
          "output_type": "stream",
          "text": [
            "/usr/local/lib/python3.6/dist-packages/ipykernel_launcher.py:1: SettingWithCopyWarning: \n",
            "A value is trying to be set on a copy of a slice from a DataFrame.\n",
            "Try using .loc[row_indexer,col_indexer] = value instead\n",
            "\n",
            "See the caveats in the documentation: http://pandas.pydata.org/pandas-docs/stable/indexing.html#indexing-view-versus-copy\n",
            "  \"\"\"Entry point for launching an IPython kernel.\n"
          ],
          "name": "stderr"
        }
      ]
    },
    {
      "cell_type": "code",
      "metadata": {
        "id": "9RipLhioFqb1",
        "colab_type": "code",
        "colab": {}
      },
      "source": [
        "z = np.abs(stats.zscore(dat2))   #Detecting outliers\n",
        "dat2 = dat2[(z<3).all(axis=1)]"
      ],
      "execution_count": 0,
      "outputs": []
    },
    {
      "cell_type": "code",
      "metadata": {
        "id": "qAOnhIu9i44L",
        "colab_type": "code",
        "colab": {}
      },
      "source": [
        "X2 = dat2[['stn_code','state','location','type','location_monitoring_station','date']]\n",
        "Y2 = dat2['no2']"
      ],
      "execution_count": 0,
      "outputs": []
    },
    {
      "cell_type": "code",
      "metadata": {
        "id": "rwWunXjwi6yH",
        "colab_type": "code",
        "outputId": "d4abff5f-b30f-429d-9693-9e9a60040f8e",
        "colab": {
          "base_uri": "https://localhost:8080/",
          "height": 309
        }
      },
      "source": [
        "X_train2, X_test2, Y_train2, Y_test2 = train_test_split(X2,Y2,test_size=0.2,random_state=0)\n",
        "regressor.fit(X_train2,np.array(Y_train2).reshape(Y_train2.shape[0],1))"
      ],
      "execution_count": 0,
      "outputs": [
        {
          "output_type": "stream",
          "text": [
            "/usr/local/lib/python3.6/dist-packages/sklearn/utils/validation.py:724: DataConversionWarning: A column-vector y was passed when a 1d array was expected. Please change the shape of y to (n_samples, ), for example using ravel().\n",
            "  y = column_or_1d(y, warn=True)\n"
          ],
          "name": "stderr"
        },
        {
          "output_type": "execute_result",
          "data": {
            "text/plain": [
              "AdaBoostRegressor(base_estimator=DecisionTreeRegressor(criterion='mse',\n",
              "                                                       max_depth=None,\n",
              "                                                       max_features=None,\n",
              "                                                       max_leaf_nodes=None,\n",
              "                                                       min_impurity_decrease=0.0,\n",
              "                                                       min_impurity_split=None,\n",
              "                                                       min_samples_leaf=1,\n",
              "                                                       min_samples_split=2,\n",
              "                                                       min_weight_fraction_leaf=0.0,\n",
              "                                                       presort=False,\n",
              "                                                       random_state=None,\n",
              "                                                       splitter='best'),\n",
              "                  learning_rate=0.01, loss='exponential', n_estimators=100,\n",
              "                  random_state=None)"
            ]
          },
          "metadata": {
            "tags": []
          },
          "execution_count": 20
        }
      ]
    },
    {
      "cell_type": "code",
      "metadata": {
        "id": "fZspb3Zii85-",
        "colab_type": "code",
        "colab": {}
      },
      "source": [
        "pred2 = np.array(regressor.predict(X_test2))\n",
        "\n",
        "cod2 = regressor.score(X_test2,np.array(Y_test2).reshape(Y_test2.shape[0],1))\n",
        "ms2 = mse(pred2,np.array(Y_test2).reshape(Y_test2.shape[0],1))\n",
        "ma2 = mae(pred2,np.array(Y_test2).reshape(Y_test2.shape[0],1))"
      ],
      "execution_count": 0,
      "outputs": []
    },
    {
      "cell_type": "code",
      "metadata": {
        "id": "kvLPzb1Ci--h",
        "colab_type": "code",
        "outputId": "12946fd5-a05d-4560-ac4e-3e3487584b8f",
        "colab": {
          "base_uri": "https://localhost:8080/",
          "height": 272
        }
      },
      "source": [
        "print('*** Evaluation metrics for NO2 ***\\n')\n",
        "print('Coeff. of Determination: ',cod2)\n",
        "print('Mean Squared Error: ',ms2)\n",
        "print('Root Mean Sqaured Error: ',ms2**0.5)\n",
        "print('Mean Absolute Error: ',ma2)\n",
        "a = pd.DataFrame(Y_test2)\n",
        "a['pred']= regressor.predict(X_test2)\n",
        "print('\\n\\tTable 1\\n')\n",
        "print(a.head())"
      ],
      "execution_count": 0,
      "outputs": [
        {
          "output_type": "stream",
          "text": [
            "*** Evaluation metrics for NO2 ***\n",
            "\n",
            "Coeff. of Determination:  0.7129276108224096\n",
            "Mean Squared Error:  56.55432912736637\n",
            "Root Mean Sqaured Error:  7.520261240632959\n",
            "Mean Absolute Error:  4.3187055826627585\n",
            "\n",
            "\tTable 1\n",
            "\n",
            "         no2       pred\n",
            "272477  22.4  22.500000\n",
            "302556  36.7  34.000000\n",
            "405223  28.0  28.000000\n",
            "304919  37.0  27.000000\n",
            "51238    9.9  25.809623\n"
          ],
          "name": "stdout"
        }
      ]
    },
    {
      "cell_type": "markdown",
      "metadata": {
        "id": "n4yMAQhBktUN",
        "colab_type": "text"
      },
      "source": [
        "###Respirable Suspended Particulate Matter"
      ]
    },
    {
      "cell_type": "code",
      "metadata": {
        "id": "t3V_aZYdk0oB",
        "colab_type": "code",
        "colab": {}
      },
      "source": [
        "dat3 = data[['stn_code','state','location','type','rspm','location_monitoring_station','date']]"
      ],
      "execution_count": 0,
      "outputs": []
    },
    {
      "cell_type": "code",
      "metadata": {
        "id": "ttWhrhQglBcp",
        "colab_type": "code",
        "outputId": "6fc0526e-578e-4a4f-84fe-b67c2ffd4212",
        "colab": {
          "base_uri": "https://localhost:8080/",
          "height": 119
        }
      },
      "source": [
        "dat3['rspm'] = dat3['rspm'].fillna(np.mean(dat3['rspm']),axis=0)"
      ],
      "execution_count": 0,
      "outputs": [
        {
          "output_type": "stream",
          "text": [
            "/usr/local/lib/python3.6/dist-packages/ipykernel_launcher.py:1: SettingWithCopyWarning: \n",
            "A value is trying to be set on a copy of a slice from a DataFrame.\n",
            "Try using .loc[row_indexer,col_indexer] = value instead\n",
            "\n",
            "See the caveats in the documentation: http://pandas.pydata.org/pandas-docs/stable/indexing.html#indexing-view-versus-copy\n",
            "  \"\"\"Entry point for launching an IPython kernel.\n"
          ],
          "name": "stderr"
        }
      ]
    },
    {
      "cell_type": "code",
      "metadata": {
        "id": "WnHwz7vQFuEN",
        "colab_type": "code",
        "colab": {}
      },
      "source": [
        "z = np.abs(stats.zscore(dat3))   #Detecting outliers\n",
        "dat3 = dat3[(z<3).all(axis=1)]"
      ],
      "execution_count": 0,
      "outputs": []
    },
    {
      "cell_type": "code",
      "metadata": {
        "id": "eRpLWqvzlP_i",
        "colab_type": "code",
        "colab": {}
      },
      "source": [
        "X3 = dat3[['stn_code','state','location','type','location_monitoring_station','date']]\n",
        "Y3 = dat3['rspm']"
      ],
      "execution_count": 0,
      "outputs": []
    },
    {
      "cell_type": "code",
      "metadata": {
        "id": "ttgGf5zMlQXR",
        "colab_type": "code",
        "outputId": "da7911d4-35ac-437d-9654-6e4cdd9e7560",
        "colab": {
          "base_uri": "https://localhost:8080/",
          "height": 309
        }
      },
      "source": [
        "X_train3, X_test3, Y_train3, Y_test3 = train_test_split(X3,Y3,test_size=0.2,random_state=0)\n",
        "regressor.fit(X_train3,np.array(Y_train3).reshape(Y_train3.shape[0],1))"
      ],
      "execution_count": 0,
      "outputs": [
        {
          "output_type": "stream",
          "text": [
            "/usr/local/lib/python3.6/dist-packages/sklearn/utils/validation.py:724: DataConversionWarning: A column-vector y was passed when a 1d array was expected. Please change the shape of y to (n_samples, ), for example using ravel().\n",
            "  y = column_or_1d(y, warn=True)\n"
          ],
          "name": "stderr"
        },
        {
          "output_type": "execute_result",
          "data": {
            "text/plain": [
              "AdaBoostRegressor(base_estimator=DecisionTreeRegressor(criterion='mse',\n",
              "                                                       max_depth=None,\n",
              "                                                       max_features=None,\n",
              "                                                       max_leaf_nodes=None,\n",
              "                                                       min_impurity_decrease=0.0,\n",
              "                                                       min_impurity_split=None,\n",
              "                                                       min_samples_leaf=1,\n",
              "                                                       min_samples_split=2,\n",
              "                                                       min_weight_fraction_leaf=0.0,\n",
              "                                                       presort=False,\n",
              "                                                       random_state=None,\n",
              "                                                       splitter='best'),\n",
              "                  learning_rate=0.01, loss='exponential', n_estimators=100,\n",
              "                  random_state=None)"
            ]
          },
          "metadata": {
            "tags": []
          },
          "execution_count": 27
        }
      ]
    },
    {
      "cell_type": "code",
      "metadata": {
        "id": "sjMhFYUol6V5",
        "colab_type": "code",
        "colab": {}
      },
      "source": [
        "pred3 = np.array(regressor.predict(X_test3))\n",
        "\n",
        "cod3 = regressor.score(X_test3,np.array(Y_test3).reshape(Y_test3.shape[0],1))\n",
        "ms3 = mse(pred3,np.array(Y_test3).reshape(Y_test3.shape[0],1))\n",
        "ma3 = mae(pred3,np.array(Y_test3).reshape(Y_test3.shape[0],1))"
      ],
      "execution_count": 0,
      "outputs": []
    },
    {
      "cell_type": "code",
      "metadata": {
        "id": "9m8s0oUXmU-D",
        "colab_type": "code",
        "outputId": "fcdcb432-0f3e-4b5e-8e1c-3399ce7dfe6e",
        "colab": {
          "base_uri": "https://localhost:8080/",
          "height": 272
        }
      },
      "source": [
        "print('*** Evaluation metrics for RSPM ***\\n')\n",
        "print('Coeff. of Determination: ',cod3)\n",
        "print('Mean Squared Error: ',ms3)\n",
        "print('Root Mean Sqaured Error: ',ms3**0.5)\n",
        "print('Mean Absolute Error: ',ma3)\n",
        "a = pd.DataFrame(Y_test3)\n",
        "a['pred']= regressor.predict(X_test3)\n",
        "print('\\n\\tTable 3\\n')\n",
        "print(a.head())"
      ],
      "execution_count": 0,
      "outputs": [
        {
          "output_type": "stream",
          "text": [
            "*** Evaluation metrics for RSPM ***\n",
            "\n",
            "Coeff. of Determination:  0.5473578370949359\n",
            "Mean Squared Error:  1631.2569866677457\n",
            "Root Mean Sqaured Error:  40.388822546191484\n",
            "Mean Absolute Error:  24.04661990934084\n",
            "\n",
            "\tTable 3\n",
            "\n",
            "          rspm   pred\n",
            "67406   119.00  100.0\n",
            "353739   23.00   14.0\n",
            "355372   14.00   12.0\n",
            "83385   172.33  178.0\n",
            "214228  146.00  216.0\n"
          ],
          "name": "stdout"
        }
      ]
    },
    {
      "cell_type": "markdown",
      "metadata": {
        "id": "PJFSP82jm40M",
        "colab_type": "text"
      },
      "source": [
        "###Suspended Particulate Matter"
      ]
    },
    {
      "cell_type": "code",
      "metadata": {
        "colab_type": "code",
        "id": "1RbtJZX9nAUa",
        "colab": {}
      },
      "source": [
        "dat4 = data[['stn_code','state','location','type','spm','location_monitoring_station','date']]"
      ],
      "execution_count": 0,
      "outputs": []
    },
    {
      "cell_type": "code",
      "metadata": {
        "colab_type": "code",
        "id": "VieXaSr-nAUi",
        "outputId": "7a12156a-f8ad-46ac-f399-a5f9a339d0d8",
        "colab": {
          "base_uri": "https://localhost:8080/",
          "height": 119
        }
      },
      "source": [
        "dat4['spm'] = dat4['spm'].fillna(np.mean(dat4['spm']),axis=0)"
      ],
      "execution_count": 0,
      "outputs": [
        {
          "output_type": "stream",
          "text": [
            "/usr/local/lib/python3.6/dist-packages/ipykernel_launcher.py:1: SettingWithCopyWarning: \n",
            "A value is trying to be set on a copy of a slice from a DataFrame.\n",
            "Try using .loc[row_indexer,col_indexer] = value instead\n",
            "\n",
            "See the caveats in the documentation: http://pandas.pydata.org/pandas-docs/stable/indexing.html#indexing-view-versus-copy\n",
            "  \"\"\"Entry point for launching an IPython kernel.\n"
          ],
          "name": "stderr"
        }
      ]
    },
    {
      "cell_type": "code",
      "metadata": {
        "id": "VdPXBZAHFxzI",
        "colab_type": "code",
        "colab": {}
      },
      "source": [
        "z = np.abs(stats.zscore(dat4))   #Detecting outliers\n",
        "dat4 = dat4[(z<3).all(axis=1)]"
      ],
      "execution_count": 0,
      "outputs": []
    },
    {
      "cell_type": "code",
      "metadata": {
        "colab_type": "code",
        "id": "JVQL9e68nAUq",
        "colab": {}
      },
      "source": [
        "X4 = dat4[['stn_code','state','location','type','location_monitoring_station','date']]\n",
        "Y4 = dat4['spm']"
      ],
      "execution_count": 0,
      "outputs": []
    },
    {
      "cell_type": "code",
      "metadata": {
        "colab_type": "code",
        "id": "iaTe7AHMnAUv",
        "outputId": "e3324971-2b8d-4a65-850d-419a3227e54c",
        "colab": {
          "base_uri": "https://localhost:8080/",
          "height": 309
        }
      },
      "source": [
        "X_train4, X_test4, Y_train4, Y_test4 = train_test_split(X4,Y4,test_size=0.2,random_state=0)\n",
        "regressor.fit(X_train4,np.array(Y_train4).reshape(Y_train4.shape[0],1))"
      ],
      "execution_count": 0,
      "outputs": [
        {
          "output_type": "stream",
          "text": [
            "/usr/local/lib/python3.6/dist-packages/sklearn/utils/validation.py:724: DataConversionWarning: A column-vector y was passed when a 1d array was expected. Please change the shape of y to (n_samples, ), for example using ravel().\n",
            "  y = column_or_1d(y, warn=True)\n"
          ],
          "name": "stderr"
        },
        {
          "output_type": "execute_result",
          "data": {
            "text/plain": [
              "AdaBoostRegressor(base_estimator=DecisionTreeRegressor(criterion='mse',\n",
              "                                                       max_depth=None,\n",
              "                                                       max_features=None,\n",
              "                                                       max_leaf_nodes=None,\n",
              "                                                       min_impurity_decrease=0.0,\n",
              "                                                       min_impurity_split=None,\n",
              "                                                       min_samples_leaf=1,\n",
              "                                                       min_samples_split=2,\n",
              "                                                       min_weight_fraction_leaf=0.0,\n",
              "                                                       presort=False,\n",
              "                                                       random_state=None,\n",
              "                                                       splitter='best'),\n",
              "                  learning_rate=0.01, loss='exponential', n_estimators=100,\n",
              "                  random_state=None)"
            ]
          },
          "metadata": {
            "tags": []
          },
          "execution_count": 34
        }
      ]
    },
    {
      "cell_type": "code",
      "metadata": {
        "colab_type": "code",
        "id": "rA8sYHZxnAU1",
        "colab": {}
      },
      "source": [
        "pred4 = np.array(regressor.predict(X_test4))\n",
        "\n",
        "cod4 = regressor.score(X_test4,np.array(Y_test4).reshape(Y_test4.shape[0],1))\n",
        "ms4 = mse(pred4,np.array(Y_test4).reshape(Y_test4.shape[0],1))\n",
        "ma4 = mae(pred4,np.array(Y_test4).reshape(Y_test4.shape[0],1))"
      ],
      "execution_count": 0,
      "outputs": []
    },
    {
      "cell_type": "code",
      "metadata": {
        "colab_type": "code",
        "id": "YMmmyNNDnAU5",
        "outputId": "ee9aa820-bfa0-4786-ba32-d4244d442058",
        "colab": {
          "base_uri": "https://localhost:8080/",
          "height": 272
        }
      },
      "source": [
        "print('*** Evaluation metrics for SPM ***\\n')\n",
        "print('Coeff. of Determination: ',cod4)\n",
        "print('Mean Squared Error: ',ms4)\n",
        "print('Root Mean Sqaured Error: ',ms4**0.5)\n",
        "print('Mean Absolute Error: ',ma4)\n",
        "a = pd.DataFrame(Y_test4)\n",
        "a['pred']= regressor.predict(X_test4)\n",
        "print('\\n\\tTable 4\\n')\n",
        "print(a.head())"
      ],
      "execution_count": 0,
      "outputs": [
        {
          "output_type": "stream",
          "text": [
            "*** Evaluation metrics for SPM ***\n",
            "\n",
            "Coeff. of Determination:  0.6081325782967919\n",
            "Mean Squared Error:  2587.236526940097\n",
            "Root Mean Sqaured Error:  50.86488500861962\n",
            "Mean Absolute Error:  22.212255773065735\n",
            "\n",
            "\tTable 4\n",
            "\n",
            "              spm       pred\n",
            "266401  220.78348  220.78348\n",
            "350590  176.00000  321.00000\n",
            "428846  220.78348  220.78348\n",
            "361718  220.78348  220.78348\n",
            "79926   220.78348  220.78348\n"
          ],
          "name": "stdout"
        }
      ]
    },
    {
      "cell_type": "markdown",
      "metadata": {
        "id": "JAUsbEFro7mR",
        "colab_type": "text"
      },
      "source": [
        "###Particulate Matter 2.5 (PM2.5)"
      ]
    },
    {
      "cell_type": "code",
      "metadata": {
        "colab_type": "code",
        "id": "o-7lZ5JqpEKt",
        "colab": {}
      },
      "source": [
        "dat5 = data[['stn_code','state','location','type','pm2_5','location_monitoring_station','date']]"
      ],
      "execution_count": 0,
      "outputs": []
    },
    {
      "cell_type": "code",
      "metadata": {
        "colab_type": "code",
        "id": "4ebwyQLWpEKz",
        "outputId": "7c85bc0e-0aa7-4a3e-e5c2-8f2dcbe67930",
        "colab": {
          "base_uri": "https://localhost:8080/",
          "height": 119
        }
      },
      "source": [
        "dat5['pm2_5'] = dat5['pm2_5'].fillna(np.mean(dat5['pm2_5']),axis=0)"
      ],
      "execution_count": 0,
      "outputs": [
        {
          "output_type": "stream",
          "text": [
            "/usr/local/lib/python3.6/dist-packages/ipykernel_launcher.py:1: SettingWithCopyWarning: \n",
            "A value is trying to be set on a copy of a slice from a DataFrame.\n",
            "Try using .loc[row_indexer,col_indexer] = value instead\n",
            "\n",
            "See the caveats in the documentation: http://pandas.pydata.org/pandas-docs/stable/indexing.html#indexing-view-versus-copy\n",
            "  \"\"\"Entry point for launching an IPython kernel.\n"
          ],
          "name": "stderr"
        }
      ]
    },
    {
      "cell_type": "code",
      "metadata": {
        "id": "U5sc3AvbF25r",
        "colab_type": "code",
        "colab": {}
      },
      "source": [
        "z = np.abs(stats.zscore(dat5))   #Detecting outliers\n",
        "dat5 = dat5[(z<3).all(axis=1)]"
      ],
      "execution_count": 0,
      "outputs": []
    },
    {
      "cell_type": "code",
      "metadata": {
        "colab_type": "code",
        "id": "FUcU1GujpEK4",
        "colab": {}
      },
      "source": [
        "X5 = dat5[['stn_code','state','location','type','location_monitoring_station','date']]\n",
        "Y5 = dat5['pm2_5']"
      ],
      "execution_count": 0,
      "outputs": []
    },
    {
      "cell_type": "code",
      "metadata": {
        "colab_type": "code",
        "id": "tcEO-BG0pEK9",
        "outputId": "141a0ffa-6849-4286-b7a7-2f2367c54989",
        "colab": {
          "base_uri": "https://localhost:8080/",
          "height": 309
        }
      },
      "source": [
        "X_train5, X_test5, Y_train5, Y_test5 = train_test_split(X5,Y5,test_size=0.2,random_state=0)\n",
        "regressor.fit(X_train5,np.array(Y_train5).reshape(Y_train5.shape[0],1))"
      ],
      "execution_count": 0,
      "outputs": [
        {
          "output_type": "stream",
          "text": [
            "/usr/local/lib/python3.6/dist-packages/sklearn/utils/validation.py:724: DataConversionWarning: A column-vector y was passed when a 1d array was expected. Please change the shape of y to (n_samples, ), for example using ravel().\n",
            "  y = column_or_1d(y, warn=True)\n"
          ],
          "name": "stderr"
        },
        {
          "output_type": "execute_result",
          "data": {
            "text/plain": [
              "AdaBoostRegressor(base_estimator=DecisionTreeRegressor(criterion='mse',\n",
              "                                                       max_depth=None,\n",
              "                                                       max_features=None,\n",
              "                                                       max_leaf_nodes=None,\n",
              "                                                       min_impurity_decrease=0.0,\n",
              "                                                       min_impurity_split=None,\n",
              "                                                       min_samples_leaf=1,\n",
              "                                                       min_samples_split=2,\n",
              "                                                       min_weight_fraction_leaf=0.0,\n",
              "                                                       presort=False,\n",
              "                                                       random_state=None,\n",
              "                                                       splitter='best'),\n",
              "                  learning_rate=0.01, loss='exponential', n_estimators=100,\n",
              "                  random_state=None)"
            ]
          },
          "metadata": {
            "tags": []
          },
          "execution_count": 41
        }
      ]
    },
    {
      "cell_type": "code",
      "metadata": {
        "colab_type": "code",
        "id": "VSMDTp_lpEK_",
        "colab": {}
      },
      "source": [
        "pred5 = np.array(regressor.predict(X_test5))\n",
        "\n",
        "cod5 = regressor.score(X_test5,np.array(Y_test5).reshape(Y_test5.shape[0],1))\n",
        "ms5 = mse(pred5,np.array(Y_test5).reshape(Y_test5.shape[0],1))\n",
        "ma5 = mae(pred5,np.array(Y_test5).reshape(Y_test5.shape[0],1))"
      ],
      "execution_count": 0,
      "outputs": []
    },
    {
      "cell_type": "code",
      "metadata": {
        "colab_type": "code",
        "id": "tkuQoH1KpELC",
        "outputId": "f9b9fa9e-48bc-4cfb-87da-f5f8f26cbd73",
        "colab": {
          "base_uri": "https://localhost:8080/",
          "height": 272
        }
      },
      "source": [
        "print('*** Evaluation metrics for PM2.5 ***\\n')\n",
        "print('Coeff. of Determination: ',cod5)\n",
        "print('Mean Squared Error: ',ms5)\n",
        "print('Root Mean Sqaured Error: ',ms5**0.5)\n",
        "print('Mean Absolute Error: ',ma5)\n",
        "a = pd.DataFrame(Y_test5)\n",
        "a['pred']= regressor.predict(X_test5)\n",
        "print('\\n\\tTable 5\\n')\n",
        "print(a.head())"
      ],
      "execution_count": 0,
      "outputs": [
        {
          "output_type": "stream",
          "text": [
            "*** Evaluation metrics for PM2.5 ***\n",
            "\n",
            "Coeff. of Determination:  0.3391285249885417\n",
            "Mean Squared Error:  0.411277568859351\n",
            "Root Mean Sqaured Error:  0.6413092614794761\n",
            "Mean Absolute Error:  0.04966955775217961\n",
            "\n",
            "\tTable 5\n",
            "\n",
            "            pm2_5       pred\n",
            "419520  40.791467  40.791467\n",
            "142535  40.791467  40.791467\n",
            "41947   40.791467  40.791467\n",
            "303607  40.791467  40.791467\n",
            "87029   40.791467  40.791467\n"
          ],
          "name": "stdout"
        }
      ]
    },
    {
      "cell_type": "markdown",
      "metadata": {
        "id": "VMYZysqztYvS",
        "colab_type": "text"
      },
      "source": [
        "##Visualization"
      ]
    },
    {
      "cell_type": "code",
      "metadata": {
        "id": "-xu8l2X7taRI",
        "colab_type": "code",
        "colab": {}
      },
      "source": [
        "import matplotlib.pyplot as plt"
      ],
      "execution_count": 0,
      "outputs": []
    },
    {
      "cell_type": "code",
      "metadata": {
        "id": "jw_dB8XWuSIo",
        "colab_type": "code",
        "colab": {}
      },
      "source": [
        "def plotter(ht,title):\n",
        "  label = ['so2','no2','rspm','spm','pm2_5']\n",
        "  quant = ht\n",
        "  index = np.arange(len(label))\n",
        "  colors= ['r','g','b','m','c']\n",
        "  plt.title(title)\n",
        "  plt.plot(quant,color=np.random.choice(colors),marker='*')\n",
        "  plt.bar(index,quant,color=np.random.choice(colors))\n",
        "  \n",
        "  plt.xlabel('Components', fontsize=10)\n",
        "  plt.ylabel('Results', fontsize=10)\n",
        "  plt.xticks(index, label, fontsize=10)\n",
        "  plt.show()"
      ],
      "execution_count": 0,
      "outputs": []
    },
    {
      "cell_type": "code",
      "metadata": {
        "id": "MR9DNrDDvgBZ",
        "colab_type": "code",
        "colab": {}
      },
      "source": [
        "coef_of_deter = [cod1,cod2,cod3,cod4,cod5]\n",
        "msqe = [ms1,ms2,ms3,ms4,ms5]\n",
        "mabs = [ma1,ma2,ma3,ma4,ma5]\n",
        "\n"
      ],
      "execution_count": 0,
      "outputs": []
    },
    {
      "cell_type": "markdown",
      "metadata": {
        "id": "PGDpORzCyHwM",
        "colab_type": "text"
      },
      "source": [
        "###Coefficient of Determination"
      ]
    },
    {
      "cell_type": "code",
      "metadata": {
        "id": "MJuX8Gu9wLEe",
        "colab_type": "code",
        "outputId": "00eb35b6-f888-48c9-fd74-3d04282110bf",
        "colab": {
          "base_uri": "https://localhost:8080/",
          "height": 296
        }
      },
      "source": [
        "plotter(ht=coef_of_deter,title='Coefficient of Determination')"
      ],
      "execution_count": 0,
      "outputs": [
        {
          "output_type": "display_data",
          "data": {
            "image/png": "[encoded data removed]",
            "text/plain": [
              "<Figure size 432x288 with 1 Axes>"
            ]
          },
          "metadata": {
            "tags": []
          }
        }
      ]
    },
    {
      "cell_type": "markdown",
      "metadata": {
        "id": "Xo_LW7TD1D5A",
        "colab_type": "text"
      },
      "source": [
        "###Mean Absolute Error"
      ]
    },
    {
      "cell_type": "code",
      "metadata": {
        "id": "XAPU6LW11G0q",
        "colab_type": "code",
        "outputId": "258d71ba-09a8-4458-c610-d7faffff80f2",
        "colab": {
          "base_uri": "https://localhost:8080/",
          "height": 296
        }
      },
      "source": [
        "plotter(ht=mabs,title='Mean Absolute Error')"
      ],
      "execution_count": 0,
      "outputs": [
        {
          "output_type": "display_data",
          "data": {
            "image/png": "[encoded data removed]",
            "text/plain": [
              "<Figure size 432x288 with 1 Axes>"
            ]
          },
          "metadata": {
            "tags": []
          }
        }
      ]
    },
    {
      "cell_type": "markdown",
      "metadata": {
        "id": "1PSzD37M3--4",
        "colab_type": "text"
      },
      "source": [
        "###Mean Squared Error"
      ]
    },
    {
      "cell_type": "code",
      "metadata": {
        "id": "_6hSV7wy1ZJ6",
        "colab_type": "code",
        "outputId": "82776428-7f13-434d-cc16-2bc55e905255",
        "colab": {
          "base_uri": "https://localhost:8080/",
          "height": 296
        }
      },
      "source": [
        "plotter(ht=msqe,title='Mean Squared Error')"
      ],
      "execution_count": 0,
      "outputs": [
        {
          "output_type": "display_data",
          "data": {
            "image/png": "[encoded data removed]",
            "text/plain": [
              "<Figure size 432x288 with 1 Axes>"
            ]
          },
          "metadata": {
            "tags": []
          }
        }
      ]
    },
    {
      "cell_type": "code",
      "metadata": {
        "id": "V1sL3zfzA1AS",
        "colab_type": "code",
        "colab": {}
      },
      "source": [
        ""
      ],
      "execution_count": 0,
      "outputs": []
    }
  ]
}