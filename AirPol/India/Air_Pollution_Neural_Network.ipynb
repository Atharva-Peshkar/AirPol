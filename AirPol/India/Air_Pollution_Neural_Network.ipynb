{
  "nbformat": 4,
  "nbformat_minor": 0,
  "metadata": {
    "colab": {
      "name": "Air Pollution Neural Network.ipynb",
      "provenance": [],
      "collapsed_sections": []
    },
    "kernelspec": {
      "name": "python3",
      "display_name": "Python 3"
    },
    "accelerator": "GPU"
  },
  "cells": [
    {
      "cell_type": "markdown",
      "metadata": {
        "id": "1NTAcgeW8IUw",
        "colab_type": "text"
      },
      "source": [
        "##Neural Network"
      ]
    },
    {
      "cell_type": "code",
      "metadata": {
        "id": "0pVFaFiheaRX",
        "colab_type": "code",
        "colab": {}
      },
      "source": [
        "import numpy as np\n",
        "import pandas as pd\n",
        "import datetime as dt\n",
        "import sklearn\n",
        "from sklearn import preprocessing\n",
        "from sklearn.linear_model import LinearRegression\n",
        "from sklearn.model_selection import train_test_split\n",
        "from sklearn.metrics import mean_absolute_error as mae\n",
        "from sklearn.metrics import mean_squared_error as mse"
      ],
      "execution_count": 0,
      "outputs": []
    },
    {
      "cell_type": "code",
      "metadata": {
        "id": "tQ6qtq1nCh-m",
        "colab_type": "code",
        "outputId": "0cec0531-f13a-4cd2-e914-403aa45a67ac",
        "colab": {
          "base_uri": "https://localhost:8080/",
          "height": 71
        }
      },
      "source": [
        "data = pd.read_csv('All India Air Quality Data.csv',encoding='cp1252')                                                                                                                         "
      ],
      "execution_count": 0,
      "outputs": [
        {
          "output_type": "stream",
          "text": [
            "/usr/local/lib/python3.6/dist-packages/IPython/core/interactiveshell.py:2718: DtypeWarning: Columns (0) have mixed types. Specify dtype option on import or set low_memory=False.\n",
            "  interactivity=interactivity, compiler=compiler, result=result)\n"
          ],
          "name": "stderr"
        }
      ]
    },
    {
      "cell_type": "code",
      "metadata": {
        "id": "pJoxZntpPsI9",
        "colab_type": "code",
        "outputId": "4e7dd3fb-00f7-4de3-b9fd-d83e4473e69e",
        "colab": {
          "base_uri": "https://localhost:8080/",
          "height": 85
        }
      },
      "source": [
        "print(data.columns)"
      ],
      "execution_count": 0,
      "outputs": [
        {
          "output_type": "stream",
          "text": [
            "Index(['stn_code', 'sampling_date', 'state', 'location', 'agency', 'type',\n",
            "       'so2', 'no2', 'rspm', 'spm', 'location_monitoring_station', 'pm2_5',\n",
            "       'date'],\n",
            "      dtype='object')\n"
          ],
          "name": "stdout"
        }
      ]
    },
    {
      "cell_type": "code",
      "metadata": {
        "id": "T3Ll5Cwxf25y",
        "colab_type": "code",
        "colab": {}
      },
      "source": [
        "encoder = preprocessing.LabelEncoder()\n",
        "regressor = LinearRegression(copy_X=True, fit_intercept=True, n_jobs=-1, normalize=True)\n",
        "\n",
        "data['date'] = pd.to_datetime(data['date'])\n",
        "data['date']= data['date'].map(dt.datetime.toordinal)"
      ],
      "execution_count": 0,
      "outputs": []
    },
    {
      "cell_type": "code",
      "metadata": {
        "id": "GblPXSlQig5F",
        "colab_type": "code",
        "colab": {}
      },
      "source": [
        "data = data.fillna(np.nan,axis=0)\n",
        "\n",
        "\n",
        "data['stn_code'] = encoder.fit_transform(data['stn_code'].astype(str))\n",
        "data['state'] = encoder.fit_transform(data['state'])\n",
        "data['location'] = encoder.fit_transform(data['location'].astype(str))\n",
        "data['type'] = encoder.fit_transform(data['type'].astype(str))\n",
        "data['location_monitoring_station'] = encoder.fit_transform(data['location_monitoring_station'].astype(str))\n",
        "\n",
        "data['so2'] = data['so2'].fillna(np.mean(data['so2']),axis=0)\n",
        "data['no2'] = data['no2'].fillna(np.mean(data['no2']),axis=0)\n",
        "data['rspm'] = data['rspm'].fillna(np.mean(data['rspm']),axis=0)\n",
        "data['spm'] = data['spm'].fillna(np.mean(data['spm']),axis=0)\n",
        "data['pm2_5'] = data['pm2_5'].fillna(np.mean(data['pm2_5']),axis=0)"
      ],
      "execution_count": 0,
      "outputs": []
    },
    {
      "cell_type": "code",
      "metadata": {
        "id": "nDiwLV3oEE6f",
        "colab_type": "code",
        "colab": {}
      },
      "source": [
        "X1 = data[['stn_code','state','location','type','location_monitoring_station','date']]\n",
        "Y1 = data['pm2_5']\n",
        "\n",
        "X_train1, X_test1, Y_train1, Y_test1 = train_test_split(X1,Y1,test_size=0.2,random_state=0)\n",
        "\n",
        "Y_train1, Y_test1 = np.array(Y_train1).reshape(-1,1),np.array(Y_test1).reshape(-1,1)"
      ],
      "execution_count": 0,
      "outputs": []
    },
    {
      "cell_type": "code",
      "metadata": {
        "id": "fA8B4hiPFGbr",
        "colab_type": "code",
        "colab": {}
      },
      "source": [
        "import tensorflow as tf\n",
        "from tensorflow.keras import models\n",
        "from tensorflow.keras import layers\n",
        "from tensorflow.keras.optimizers import RMSprop\n",
        "\n",
        "model = tf.keras.models.Sequential([tf.keras.layers.Dense(1024,activation='relu',input_dim=6),\n",
        "                                    tf.keras.layers.Dense(256,activation='relu'),\n",
        "                                    tf.keras.layers.Dropout(0.2),\n",
        "                                    tf.keras.layers.Dense(256,activation='relu'),\n",
        "                                    tf.keras.layers.Dense(128,activation='relu'),\n",
        "                                    tf.keras.layers.Dense(1)])\n",
        "\n",
        "model.compile(optimizer=RMSprop(lr=0.1),loss='mean_squared_error',metrics=['mean_absolute_error'])"
      ],
      "execution_count": 0,
      "outputs": []
    },
    {
      "cell_type": "code",
      "metadata": {
        "id": "5Wser8TjGFd9",
        "colab_type": "code",
        "outputId": "8f2905c8-fb92-4185-8107-ef80b43695f9",
        "colab": {
          "base_uri": "https://localhost:8080/",
          "height": 1754
        }
      },
      "source": [
        "\n",
        "history = model.fit(X_train1, # Features\n",
        "                      Y_train1, # Target\n",
        "                      epochs=50, # Number of epochs\n",
        "                      verbose=1, # No output\n",
        "                      batch_size=10000, # Number of observations per batch\n",
        "                      validation_data=(X_test1, Y_test1))"
      ],
      "execution_count": 0,
      "outputs": [
        {
          "output_type": "stream",
          "text": [
            "Train on 348593 samples, validate on 87149 samples\n",
            "Epoch 1/50\n",
            "348593/348593 [==============================] - 1s 3us/sample - loss: 7040581305883622899712.0000 - mean_absolute_error: 37871886336.0000 - val_loss: 201696557155878240.0000 - val_mean_absolute_error: 448911296.0000\n",
            "Epoch 2/50\n",
            "348593/348593 [==============================] - 1s 2us/sample - loss: 1683252306983324928.0000 - mean_absolute_error: 739343232.0000 - val_loss: 42285243552825424.0000 - val_mean_absolute_error: 205630864.0000\n",
            "Epoch 3/50\n",
            "348593/348593 [==============================] - 1s 2us/sample - loss: 262804298383653408.0000 - mean_absolute_error: 269406016.0000 - val_loss: 7853512658110805.0000 - val_mean_absolute_error: 88618784.0000\n",
            "Epoch 4/50\n",
            "348593/348593 [==============================] - 1s 2us/sample - loss: 66261661299282672.0000 - mean_absolute_error: 111964296.0000 - val_loss: 1209950258907553.2500 - val_mean_absolute_error: 34783788.0000\n",
            "Epoch 5/50\n",
            "348593/348593 [==============================] - 1s 2us/sample - loss: 16689665379396742.0000 - mean_absolute_error: 35776664.0000 - val_loss: 1613.4991 - val_mean_absolute_error: 39.9082\n",
            "Epoch 6/50\n",
            "348593/348593 [==============================] - 1s 2us/sample - loss: 4684907672349049.0000 - mean_absolute_error: 12174249.0000 - val_loss: 1724.2425 - val_mean_absolute_error: 41.2723\n",
            "Epoch 7/50\n",
            "348593/348593 [==============================] - 1s 2us/sample - loss: 2615436333106563.0000 - mean_absolute_error: 9717492.0000 - val_loss: 1530.9086 - val_mean_absolute_error: 38.8596\n",
            "Epoch 8/50\n",
            "348593/348593 [==============================] - 1s 2us/sample - loss: 1151419096601195.5000 - mean_absolute_error: 6346583.5000 - val_loss: 1515.8932 - val_mean_absolute_error: 38.6660\n",
            "Epoch 9/50\n",
            "348593/348593 [==============================] - 1s 2us/sample - loss: 201300109217331.0625 - mean_absolute_error: 2097463.0000 - val_loss: 1267.0595 - val_mean_absolute_error: 35.3020\n",
            "Epoch 10/50\n",
            "348593/348593 [==============================] - 1s 2us/sample - loss: 22463400521954.4609 - mean_absolute_error: 191448.9688 - val_loss: 178379576.7209 - val_mean_absolute_error: 85.0503\n",
            "Epoch 11/50\n",
            "348593/348593 [==============================] - 1s 2us/sample - loss: 17396516500548558.0000 - mean_absolute_error: 42930392.0000 - val_loss: 1480726526537.5491 - val_mean_absolute_error: 1198588.1250\n",
            "Epoch 12/50\n",
            "348593/348593 [==============================] - 1s 2us/sample - loss: 33347450962772.4922 - mean_absolute_error: 1589736.3750 - val_loss: 1620.5161 - val_mean_absolute_error: 39.9960\n",
            "Epoch 13/50\n",
            "348593/348593 [==============================] - 1s 2us/sample - loss: 157697472738.7944 - mean_absolute_error: 37042.8203 - val_loss: 1621.7101 - val_mean_absolute_error: 40.0109\n",
            "Epoch 14/50\n",
            "348593/348593 [==============================] - 1s 2us/sample - loss: 16074148199.0241 - mean_absolute_error: 4560.9966 - val_loss: 1622.7237 - val_mean_absolute_error: 40.0236\n",
            "Epoch 15/50\n",
            "348593/348593 [==============================] - 1s 2us/sample - loss: 1386334529.3329 - mean_absolute_error: 562.7253 - val_loss: 1623.3950 - val_mean_absolute_error: 40.0320\n",
            "Epoch 16/50\n",
            "348593/348593 [==============================] - 1s 2us/sample - loss: 2667729709050.6675 - mean_absolute_error: 23252.0957 - val_loss: 1648.9158 - val_mean_absolute_error: 40.3495\n",
            "Epoch 17/50\n",
            "348593/348593 [==============================] - 1s 2us/sample - loss: 1648.6737 - mean_absolute_error: 40.3545 - val_loss: 1648.7137 - val_mean_absolute_error: 40.3470\n",
            "Epoch 18/50\n",
            "348593/348593 [==============================] - 1s 2us/sample - loss: 1648.1083 - mean_absolute_error: 40.3475 - val_loss: 1647.4366 - val_mean_absolute_error: 40.3311\n",
            "Epoch 19/50\n",
            "348593/348593 [==============================] - 1s 2us/sample - loss: 1644.5407 - mean_absolute_error: 40.3033 - val_loss: 1639.3926 - val_mean_absolute_error: 40.2313\n",
            "Epoch 20/50\n",
            "348593/348593 [==============================] - 1s 2us/sample - loss: 10952497817.2554 - mean_absolute_error: 217.3647 - val_loss: 1633.8554 - val_mean_absolute_error: 40.1624\n",
            "Epoch 21/50\n",
            "348593/348593 [==============================] - 1s 2us/sample - loss: 1625.3486 - mean_absolute_error: 40.0644 - val_loss: 1609.3758 - val_mean_absolute_error: 39.8565\n",
            "Epoch 22/50\n",
            "348593/348593 [==============================] - 1s 2us/sample - loss: 1563.3262 - mean_absolute_error: 39.2803 - val_loss: 1487.4432 - val_mean_absolute_error: 38.2963\n",
            "Epoch 23/50\n",
            "348593/348593 [==============================] - 1s 2us/sample - loss: 1377.4092 - mean_absolute_error: 36.8289 - val_loss: 1255.1575 - val_mean_absolute_error: 35.1330\n",
            "Epoch 24/50\n",
            "348593/348593 [==============================] - 1s 2us/sample - loss: 1143.0621 - mean_absolute_error: 33.4950 - val_loss: 1027.7590 - val_mean_absolute_error: 31.7329\n",
            "Epoch 25/50\n",
            "348593/348593 [==============================] - 1s 2us/sample - loss: 926.7101 - mean_absolute_error: 30.0950 - val_loss: 823.5702 - val_mean_absolute_error: 28.3378\n",
            "Epoch 26/50\n",
            "348593/348593 [==============================] - 1s 2us/sample - loss: 733.9675 - mean_absolute_error: 26.7093 - val_loss: 643.1198 - val_mean_absolute_error: 24.9636\n",
            "Epoch 27/50\n",
            "348593/348593 [==============================] - 1s 2us/sample - loss: 564.9040 - mean_absolute_error: 23.3444 - val_loss: 486.2613 - val_mean_absolute_error: 21.6120\n",
            "Epoch 28/50\n",
            "348593/348593 [==============================] - 1s 2us/sample - loss: 419.3629 - mean_absolute_error: 20.0044 - val_loss: 352.8851 - val_mean_absolute_error: 18.2894\n",
            "Epoch 29/50\n",
            "348593/348593 [==============================] - 1s 2us/sample - loss: 297.2434 - mean_absolute_error: 16.6962 - val_loss: 242.8093 - val_mean_absolute_error: 15.0034\n",
            "Epoch 30/50\n",
            "348593/348593 [==============================] - 1s 2us/sample - loss: 198.3146 - mean_absolute_error: 13.4329 - val_loss: 155.7721 - val_mean_absolute_error: 11.7703\n",
            "Epoch 31/50\n",
            "348593/348593 [==============================] - 1s 2us/sample - loss: 122.2129 - mean_absolute_error: 10.2334 - val_loss: 91.3396 - val_mean_absolute_error: 8.6143\n",
            "Epoch 32/50\n",
            "348593/348593 [==============================] - 1s 2us/sample - loss: 68.4039 - mean_absolute_error: 7.1299 - val_loss: 48.8051 - val_mean_absolute_error: 5.5797\n",
            "Epoch 33/50\n",
            "348593/348593 [==============================] - 1s 2us/sample - loss: 70159676.4180 - mean_absolute_error: 18.5603 - val_loss: 29338603.4277 - val_mean_absolute_error: 27.3270\n",
            "Epoch 34/50\n",
            "348593/348593 [==============================] - 1s 2us/sample - loss: 493023.1012 - mean_absolute_error: 4.8957 - val_loss: 30.4460 - val_mean_absolute_error: 3.4487\n",
            "Epoch 35/50\n",
            "348593/348593 [==============================] - 1s 2us/sample - loss: 26.2247 - mean_absolute_error: 2.7696 - val_loss: 22.9996 - val_mean_absolute_error: 1.8651\n",
            "Epoch 36/50\n",
            "348593/348593 [==============================] - 1s 2us/sample - loss: 20.8057 - mean_absolute_error: 1.0618 - val_loss: 20.8398 - val_mean_absolute_error: 0.4923\n",
            "Epoch 37/50\n",
            "348593/348593 [==============================] - 1s 2us/sample - loss: 20.1894 - mean_absolute_error: 0.4497 - val_loss: 20.8372 - val_mean_absolute_error: 0.4526\n",
            "Epoch 38/50\n",
            "348593/348593 [==============================] - 1s 2us/sample - loss: 20.1907 - mean_absolute_error: 0.4656 - val_loss: 20.8367 - val_mean_absolute_error: 0.4472\n",
            "Epoch 39/50\n",
            "348593/348593 [==============================] - 1s 2us/sample - loss: 20.1925 - mean_absolute_error: 0.4678 - val_loss: 20.8369 - val_mean_absolute_error: 0.4472\n",
            "Epoch 40/50\n",
            "348593/348593 [==============================] - 1s 2us/sample - loss: 20.1919 - mean_absolute_error: 0.4708 - val_loss: 20.8366 - val_mean_absolute_error: 0.4345\n",
            "Epoch 41/50\n",
            "348593/348593 [==============================] - 1s 2us/sample - loss: 20.1924 - mean_absolute_error: 0.4684 - val_loss: 20.8432 - val_mean_absolute_error: 0.5083\n",
            "Epoch 42/50\n",
            "348593/348593 [==============================] - 1s 2us/sample - loss: 20.1936 - mean_absolute_error: 0.4729 - val_loss: 20.8407 - val_mean_absolute_error: 0.4995\n",
            "Epoch 43/50\n",
            "348593/348593 [==============================] - 1s 2us/sample - loss: 1099200.9617 - mean_absolute_error: 2.4183 - val_loss: 20.8863 - val_mean_absolute_error: 0.6534\n",
            "Epoch 44/50\n",
            "348593/348593 [==============================] - 1s 2us/sample - loss: 20.2075 - mean_absolute_error: 0.5473 - val_loss: 20.8366 - val_mean_absolute_error: 0.4422\n",
            "Epoch 45/50\n",
            "348593/348593 [==============================] - 1s 2us/sample - loss: 20.1889 - mean_absolute_error: 0.4392 - val_loss: 20.8366 - val_mean_absolute_error: 0.4447\n",
            "Epoch 46/50\n",
            "348593/348593 [==============================] - 1s 2us/sample - loss: 20.1905 - mean_absolute_error: 0.4665 - val_loss: 20.8395 - val_mean_absolute_error: 0.4810\n",
            "Epoch 47/50\n",
            "348593/348593 [==============================] - 1s 2us/sample - loss: 20.1916 - mean_absolute_error: 0.4725 - val_loss: 20.8461 - val_mean_absolute_error: 0.5239\n",
            "Epoch 48/50\n",
            "348593/348593 [==============================] - 1s 2us/sample - loss: 20.1926 - mean_absolute_error: 0.4750 - val_loss: 20.8438 - val_mean_absolute_error: 0.5115\n",
            "Epoch 49/50\n",
            "348593/348593 [==============================] - 1s 2us/sample - loss: 20.1917 - mean_absolute_error: 0.4746 - val_loss: 20.8378 - val_mean_absolute_error: 0.4716\n",
            "Epoch 50/50\n",
            "348593/348593 [==============================] - 1s 2us/sample - loss: 20.1907 - mean_absolute_error: 0.4656 - val_loss: 20.8427 - val_mean_absolute_error: 0.5048\n"
          ],
          "name": "stdout"
        }
      ]
    },
    {
      "cell_type": "code",
      "metadata": {
        "id": "7mIn4JD7JVMi",
        "colab_type": "code",
        "outputId": "e36b379c-db88-4493-df8e-247ea4a30c10",
        "colab": {
          "base_uri": "https://localhost:8080/",
          "height": 295
        }
      },
      "source": [
        "import matplotlib.pyplot as plt\n",
        "\n",
        "# Get training and test loss histories\n",
        "ma = history.history['loss']\n",
        "ma1 = history.history['mean_absolute_error']\n",
        "\n",
        "\n",
        "# Create count of the number of epochs\n",
        "epoch_count = range(1, len(training_loss) + 1)\n",
        "\n",
        "# Visualize loss history\n",
        "plt.title('Training Loss')\n",
        "plt.plot(epoch_count, ma, 'g')\n",
        "plt.plot(epoch_count, ma1, 'm')\n",
        "plt.legend(['Mean Squared Error', 'Mean Absolute Error'])\n",
        "plt.xlabel('Epoch')\n",
        "plt.ylabel('Loss')\n",
        "plt.show();"
      ],
      "execution_count": 0,
      "outputs": [
        {
          "output_type": "display_data",
          "data": {
            "image/png": "[encoded data removed]",
            "text/plain": [
              "<Figure size 432x288 with 1 Axes>"
            ]
          },
          "metadata": {
            "tags": []
          }
        }
      ]
    },
    {
      "cell_type": "code",
      "metadata": {
        "id": "5zSKTjcyaGN_",
        "colab_type": "code",
        "outputId": "cbaab46b-5dee-40eb-e99d-2b63ab312914",
        "colab": {
          "base_uri": "https://localhost:8080/",
          "height": 295
        }
      },
      "source": [
        "test_loss = history.history['val_loss']\n",
        "ma1 = history.history['val_mean_absolute_error']\n",
        "epoch_count = range(1, len(training_loss) + 1)\n",
        "\n",
        "# Visualize loss history\n",
        "plt.title('Testing Loss')\n",
        "plt.plot(epoch_count, ma, 'r')\n",
        "plt.plot(epoch_count, ma1, 'b')\n",
        "plt.legend(['Mean Squared Error', 'Mean Absolute Error'])\n",
        "plt.xlabel('Epoch')\n",
        "plt.ylabel('Loss')\n",
        "plt.show();"
      ],
      "execution_count": 0,
      "outputs": [
        {
          "output_type": "display_data",
          "data": {
            "image/png": "[encoded data removed]",
            "text/plain": [
              "<Figure size 432x288 with 1 Axes>"
            ]
          },
          "metadata": {
            "tags": []
          }
        }
      ]
    },
    {
      "cell_type": "code",
      "metadata": {
        "id": "1fv1sFLb4eVu",
        "colab_type": "code",
        "colab": {}
      },
      "source": [
        ""
      ],
      "execution_count": 0,
      "outputs": []
    }
  ]
}