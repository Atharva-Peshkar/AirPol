{
  "nbformat": 4,
  "nbformat_minor": 0,
  "metadata": {
    "colab": {
      "name": "Air Pollution SGD.ipynb",
      "provenance": [],
      "collapsed_sections": []
    },
    "kernelspec": {
      "name": "python3",
      "display_name": "Python 3"
    },
    "accelerator": "GPU"
  },
  "cells": [
    {
      "cell_type": "markdown",
      "metadata": {
        "id": "6pmQ3CSxbJLI",
        "colab_type": "text"
      },
      "source": [
        "###Stochastic Gradient Descent"
      ]
    },
    {
      "cell_type": "code",
      "metadata": {
        "id": "0pVFaFiheaRX",
        "colab_type": "code",
        "colab": {}
      },
      "source": [
        "import numpy as np\n",
        "import pandas as pd\n",
        "import datetime as dt\n",
        "from scipy import stats\n",
        "import sklearn\n",
        "from sklearn import preprocessing\n",
        "from sklearn.kernel_approximation import Nystroem\n",
        "from sklearn.linear_model import SGDRegressor\n",
        "from sklearn.model_selection import train_test_split\n",
        "from sklearn.metrics import mean_absolute_error as mae\n",
        "from sklearn.metrics import mean_squared_error as mse"
      ],
      "execution_count": 0,
      "outputs": []
    },
    {
      "cell_type": "code",
      "metadata": {
        "id": "tQ6qtq1nCh-m",
        "colab_type": "code",
        "outputId": "c03ec655-931c-473f-8e54-a96290385863",
        "colab": {
          "base_uri": "https://localhost:8080/",
          "height": 71
        }
      },
      "source": [
        "data = pd.read_csv('All India Air Quality Data.csv',encoding='cp1252')                                                                                                                         "
      ],
      "execution_count": 0,
      "outputs": [
        {
          "output_type": "stream",
          "text": [
            "/usr/local/lib/python3.6/dist-packages/IPython/core/interactiveshell.py:2718: DtypeWarning: Columns (0) have mixed types. Specify dtype option on import or set low_memory=False.\n",
            "  interactivity=interactivity, compiler=compiler, result=result)\n"
          ],
          "name": "stderr"
        }
      ]
    },
    {
      "cell_type": "code",
      "metadata": {
        "id": "pJoxZntpPsI9",
        "colab_type": "code",
        "outputId": "96ec477e-404d-43ce-9ed3-223af37abcda",
        "colab": {
          "base_uri": "https://localhost:8080/",
          "height": 85
        }
      },
      "source": [
        "print(data.columns)"
      ],
      "execution_count": 0,
      "outputs": [
        {
          "output_type": "stream",
          "text": [
            "Index(['stn_code', 'sampling_date', 'state', 'location', 'agency', 'type',\n",
            "       'so2', 'no2', 'rspm', 'spm', 'location_monitoring_station', 'pm2_5',\n",
            "       'date'],\n",
            "      dtype='object')\n"
          ],
          "name": "stdout"
        }
      ]
    },
    {
      "cell_type": "code",
      "metadata": {
        "id": "T3Ll5Cwxf25y",
        "colab_type": "code",
        "colab": {}
      },
      "source": [
        "encoder = preprocessing.LabelEncoder()\n",
        "regressor = SGDRegressor()\n",
        "\n",
        "data['date'] = pd.to_datetime(data['date'])\n",
        "data['date']= data['date'].map(dt.datetime.toordinal)"
      ],
      "execution_count": 0,
      "outputs": []
    },
    {
      "cell_type": "code",
      "metadata": {
        "id": "GblPXSlQig5F",
        "colab_type": "code",
        "colab": {}
      },
      "source": [
        "data = data.fillna(np.nan,axis=0)\n",
        "\n",
        "\n",
        "data['stn_code'] = encoder.fit_transform(data['stn_code'].astype(str))\n",
        "data['state'] = encoder.fit_transform(data['state'])\n",
        "data['location'] = encoder.fit_transform(data['location'].astype(str))\n",
        "data['type'] = encoder.fit_transform(data['type'].astype(str))\n",
        "data['location_monitoring_station'] = encoder.fit_transform(data['location_monitoring_station'].astype(str))"
      ],
      "execution_count": 0,
      "outputs": []
    },
    {
      "cell_type": "code",
      "metadata": {
        "id": "DeVb9mFQsdWR",
        "colab_type": "code",
        "outputId": "eb071ad3-5703-4071-f481-30696e018aba",
        "colab": {
          "base_uri": "https://localhost:8080/",
          "height": 119
        }
      },
      "source": [
        "print(data['date'].head())"
      ],
      "execution_count": 0,
      "outputs": [
        {
          "output_type": "stream",
          "text": [
            "0    726499\n",
            "1    726499\n",
            "2    726499\n",
            "3    726527\n",
            "4    726527\n",
            "Name: date, dtype: int64\n"
          ],
          "name": "stdout"
        }
      ]
    },
    {
      "cell_type": "markdown",
      "metadata": {
        "id": "NYT_jHn3hOn3",
        "colab_type": "text"
      },
      "source": [
        "##Training Set: 80%  ; Test Set: 20%"
      ]
    },
    {
      "cell_type": "markdown",
      "metadata": {
        "id": "DzPCEh0Pfgca",
        "colab_type": "text"
      },
      "source": [
        "###Sulphur Dioxide"
      ]
    },
    {
      "cell_type": "code",
      "metadata": {
        "id": "aF-HWnOZG7Vj",
        "colab_type": "code",
        "colab": {}
      },
      "source": [
        "dat1 = data[['stn_code','state','location','type','so2','location_monitoring_station','date']]"
      ],
      "execution_count": 0,
      "outputs": []
    },
    {
      "cell_type": "code",
      "metadata": {
        "id": "q_wAK9iWHgTb",
        "colab_type": "code",
        "outputId": "f9c99706-6f26-4852-e916-1aac9330f5ef",
        "colab": {
          "base_uri": "https://localhost:8080/",
          "height": 119
        }
      },
      "source": [
        "dat1['so2'] = dat1['so2'].fillna(np.mean(dat1['so2']),axis=0)"
      ],
      "execution_count": 0,
      "outputs": [
        {
          "output_type": "stream",
          "text": [
            "/usr/local/lib/python3.6/dist-packages/ipykernel_launcher.py:1: SettingWithCopyWarning: \n",
            "A value is trying to be set on a copy of a slice from a DataFrame.\n",
            "Try using .loc[row_indexer,col_indexer] = value instead\n",
            "\n",
            "See the caveats in the documentation: http://pandas.pydata.org/pandas-docs/stable/indexing.html#indexing-view-versus-copy\n",
            "  \"\"\"Entry point for launching an IPython kernel.\n"
          ],
          "name": "stderr"
        }
      ]
    },
    {
      "cell_type": "code",
      "metadata": {
        "id": "fmuUQKb0Gy6e",
        "colab_type": "code",
        "colab": {}
      },
      "source": [
        "z = np.abs(stats.zscore(dat1))   #Detecting outliers\n",
        "dat1 = dat1[(z<3).all(axis=1)]"
      ],
      "execution_count": 0,
      "outputs": []
    },
    {
      "cell_type": "code",
      "metadata": {
        "id": "gM19WsWfZSit",
        "colab_type": "code",
        "colab": {}
      },
      "source": [
        "\n",
        "X1 = dat1[['stn_code','state','location','type','location_monitoring_station','date']]\n",
        "Y1 = dat1['so2']"
      ],
      "execution_count": 0,
      "outputs": []
    },
    {
      "cell_type": "code",
      "metadata": {
        "id": "Kr5VOUSSTavp",
        "colab_type": "code",
        "colab": {}
      },
      "source": [
        "feature_map_nystroem = Nystroem(random_state=1,n_components=300)\n",
        "X1 = feature_map_nystroem.fit_transform(X1)"
      ],
      "execution_count": 0,
      "outputs": []
    },
    {
      "cell_type": "code",
      "metadata": {
        "id": "R2ZM70qwfD-K",
        "colab_type": "code",
        "outputId": "89b6a4ba-7fb5-4942-d7da-15dc7efc8681",
        "colab": {
          "base_uri": "https://localhost:8080/",
          "height": 173
        }
      },
      "source": [
        "\n",
        "X_train1, X_test1, Y_train1, Y_test1 = train_test_split(X1,Y1,test_size=0.2,random_state=0)\n",
        "\n",
        "regressor.fit(X_train1,np.array(Y_train1).reshape(Y_train1.shape[0],1))\n"
      ],
      "execution_count": 0,
      "outputs": [
        {
          "output_type": "stream",
          "text": [
            "/usr/local/lib/python3.6/dist-packages/sklearn/utils/validation.py:724: DataConversionWarning: A column-vector y was passed when a 1d array was expected. Please change the shape of y to (n_samples, ), for example using ravel().\n",
            "  y = column_or_1d(y, warn=True)\n"
          ],
          "name": "stderr"
        },
        {
          "output_type": "execute_result",
          "data": {
            "text/plain": [
              "SGDRegressor(alpha=0.0001, average=False, early_stopping=False, epsilon=0.1,\n",
              "             eta0=0.01, fit_intercept=True, l1_ratio=0.15,\n",
              "             learning_rate='invscaling', loss='squared_loss', max_iter=1000,\n",
              "             n_iter_no_change=5, penalty='l2', power_t=0.25, random_state=None,\n",
              "             shuffle=True, tol=0.001, validation_fraction=0.1, verbose=0,\n",
              "             warm_start=False)"
            ]
          },
          "metadata": {
            "tags": []
          },
          "execution_count": 14
        }
      ]
    },
    {
      "cell_type": "code",
      "metadata": {
        "id": "cF5xTAu9ag7C",
        "colab_type": "code",
        "colab": {}
      },
      "source": [
        "pred1 = np.array(regressor.predict(X_test1))\n",
        "\n",
        "cod1 = regressor.score(X_test1,np.array(Y_test1).reshape(Y_test1.shape[0],1))\n",
        "ms1 = mse(pred1,np.array(Y_test1).reshape(Y_test1.shape[0],1))\n",
        "ma1 = mae(pred1,np.array(Y_test1).reshape(Y_test1.shape[0],1))"
      ],
      "execution_count": 0,
      "outputs": []
    },
    {
      "cell_type": "code",
      "metadata": {
        "id": "8__8sXEWRKx5",
        "colab_type": "code",
        "outputId": "e9b4dd4b-9615-4c32-ade2-c03fecef5b58",
        "colab": {
          "base_uri": "https://localhost:8080/",
          "height": 272
        }
      },
      "source": [
        "print('*** Evaluation metrics for SO2 ***\\n')\n",
        "print('Coeff. of Determination: ',cod1)\n",
        "print('Mean Squared Error: ',ms1)\n",
        "print('Root Mean Sqaured Error: ',ms1**0.5)\n",
        "print('Mean Absolute Error: ',ma1)\n",
        "a = pd.DataFrame(Y_test1)\n",
        "a['pred']= regressor.predict(X_test1)\n",
        "print('\\n\\tTable 1\\n')\n",
        "print(a.head())"
      ],
      "execution_count": 0,
      "outputs": [
        {
          "output_type": "stream",
          "text": [
            "*** Evaluation metrics for SO2 ***\n",
            "\n",
            "Coeff. of Determination:  -7.583786646359059e-05\n",
            "Mean Squared Error:  52.42200068500277\n",
            "Root Mean Sqaured Error:  7.240303908331664\n",
            "Mean Absolute Error:  5.349341847986155\n",
            "\n",
            "\tTable 1\n",
            "\n",
            "              so2       pred\n",
            "274567  10.829414  10.146553\n",
            "92536   11.100000  10.146553\n",
            "156357   7.200000  10.146553\n",
            "430792   4.000000  10.146553\n",
            "99593   14.000000  10.146553\n"
          ],
          "name": "stdout"
        }
      ]
    },
    {
      "cell_type": "markdown",
      "metadata": {
        "id": "6rrKa-V1hIIY",
        "colab_type": "text"
      },
      "source": [
        "###Nitrogen Dioxide"
      ]
    },
    {
      "cell_type": "code",
      "metadata": {
        "id": "zWByD6A3he66",
        "colab_type": "code",
        "colab": {}
      },
      "source": [
        "dat2 = data[['stn_code','state','location','type','no2','location_monitoring_station','date']]"
      ],
      "execution_count": 0,
      "outputs": []
    },
    {
      "cell_type": "code",
      "metadata": {
        "id": "2l-KaVDti2pO",
        "colab_type": "code",
        "outputId": "f489806f-8f0d-4227-ce06-dcd6cae5bead",
        "colab": {
          "base_uri": "https://localhost:8080/",
          "height": 119
        }
      },
      "source": [
        "dat2['no2'] = dat2['no2'].fillna(np.mean(dat2['no2']),axis=0)"
      ],
      "execution_count": 0,
      "outputs": [
        {
          "output_type": "stream",
          "text": [
            "/usr/local/lib/python3.6/dist-packages/ipykernel_launcher.py:1: SettingWithCopyWarning: \n",
            "A value is trying to be set on a copy of a slice from a DataFrame.\n",
            "Try using .loc[row_indexer,col_indexer] = value instead\n",
            "\n",
            "See the caveats in the documentation: http://pandas.pydata.org/pandas-docs/stable/indexing.html#indexing-view-versus-copy\n",
            "  \"\"\"Entry point for launching an IPython kernel.\n"
          ],
          "name": "stderr"
        }
      ]
    },
    {
      "cell_type": "code",
      "metadata": {
        "id": "qAOnhIu9i44L",
        "colab_type": "code",
        "colab": {}
      },
      "source": [
        "X2 = dat2[['stn_code','state','location','type','location_monitoring_station','date']]\n",
        "Y2 = dat2['no2']"
      ],
      "execution_count": 0,
      "outputs": []
    },
    {
      "cell_type": "code",
      "metadata": {
        "id": "rwWunXjwi6yH",
        "colab_type": "code",
        "outputId": "4885136b-8fd9-45b3-9c12-1f14a64e8bd5",
        "colab": {
          "base_uri": "https://localhost:8080/",
          "height": 173
        }
      },
      "source": [
        "X_train2, X_test2, Y_train2, Y_test2 = train_test_split(X2,Y2,test_size=0.2,random_state=0)\n",
        "regressor.fit(X_train2,np.array(Y_train2).reshape(Y_train2.shape[0],1))"
      ],
      "execution_count": 0,
      "outputs": [
        {
          "output_type": "stream",
          "text": [
            "/usr/local/lib/python3.6/dist-packages/sklearn/utils/validation.py:724: DataConversionWarning: A column-vector y was passed when a 1d array was expected. Please change the shape of y to (n_samples, ), for example using ravel().\n",
            "  y = column_or_1d(y, warn=True)\n"
          ],
          "name": "stderr"
        },
        {
          "output_type": "execute_result",
          "data": {
            "text/plain": [
              "SGDRegressor(alpha=0.0001, average=False, early_stopping=False, epsilon=0.1,\n",
              "             eta0=0.01, fit_intercept=True, l1_ratio=0.15,\n",
              "             learning_rate='invscaling', loss='squared_loss', max_iter=1000,\n",
              "             n_iter_no_change=5, penalty='l2', power_t=0.25, random_state=None,\n",
              "             shuffle=True, tol=0.001, validation_fraction=0.1, verbose=0,\n",
              "             warm_start=False)"
            ]
          },
          "metadata": {
            "tags": []
          },
          "execution_count": 20
        }
      ]
    },
    {
      "cell_type": "code",
      "metadata": {
        "id": "fZspb3Zii85-",
        "colab_type": "code",
        "colab": {}
      },
      "source": [
        "pred2 = np.array(regressor.predict(X_test2))\n",
        "\n",
        "cod2 = regressor.score(X_test2,np.array(Y_test2).reshape(Y_test2.shape[0],1))\n",
        "ms2 = mse(pred2,np.array(Y_test2).reshape(Y_test2.shape[0],1))\n",
        "ma2 = mae(pred2,np.array(Y_test2).reshape(Y_test2.shape[0],1))"
      ],
      "execution_count": 0,
      "outputs": []
    },
    {
      "cell_type": "code",
      "metadata": {
        "id": "kvLPzb1Ci--h",
        "colab_type": "code",
        "outputId": "4bbb86d1-caba-494c-e837-0cf8bf0e2f4e",
        "colab": {
          "base_uri": "https://localhost:8080/",
          "height": 272
        }
      },
      "source": [
        "print('*** Evaluation metrics for NO2 ***\\n')\n",
        "print('Coeff. of Determination: ',cod2)\n",
        "print('Mean Squared Error: ',ms2)\n",
        "print('Root Mean Sqaured Error: ',ms2**0.5)\n",
        "print('Mean Absolute Error: ',ma2)\n",
        "a = pd.DataFrame(Y_test2)\n",
        "a['pred']= regressor.predict(X_test2)\n",
        "print('\\n\\tTable 1\\n')\n",
        "print(a.head())"
      ],
      "execution_count": 0,
      "outputs": [
        {
          "output_type": "stream",
          "text": [
            "*** Evaluation metrics for NO2 ***\n",
            "\n",
            "Coeff. of Determination:  -5.620768779802757e+35\n",
            "Mean Squared Error:  1.88231320193214e+38\n",
            "Root Mean Sqaured Error:  1.3719741987122571e+19\n",
            "Mean Absolute Error:  1.3719529934318883e+19\n",
            "\n",
            "\tTable 1\n",
            "\n",
            "          no2          pred\n",
            "274062  20.00  1.369122e+19\n",
            "23326    9.00  1.373921e+19\n",
            "265968   5.00  1.375942e+19\n",
            "431607  42.67  1.376493e+19\n",
            "28844   16.00  1.371049e+19\n"
          ],
          "name": "stdout"
        }
      ]
    },
    {
      "cell_type": "markdown",
      "metadata": {
        "id": "n4yMAQhBktUN",
        "colab_type": "text"
      },
      "source": [
        "###Respirable Suspended Particulate Matter"
      ]
    },
    {
      "cell_type": "code",
      "metadata": {
        "id": "t3V_aZYdk0oB",
        "colab_type": "code",
        "colab": {}
      },
      "source": [
        "dat3 = data[['stn_code','state','location','type','rspm','location_monitoring_station','date']]"
      ],
      "execution_count": 0,
      "outputs": []
    },
    {
      "cell_type": "code",
      "metadata": {
        "id": "ttWhrhQglBcp",
        "colab_type": "code",
        "outputId": "793adca7-3c22-4ef1-ba53-1c93d6286578",
        "colab": {
          "base_uri": "https://localhost:8080/",
          "height": 119
        }
      },
      "source": [
        "dat3['rspm'] = dat3['rspm'].fillna(np.mean(dat3['rspm']),axis=0)"
      ],
      "execution_count": 0,
      "outputs": [
        {
          "output_type": "stream",
          "text": [
            "/usr/local/lib/python3.6/dist-packages/ipykernel_launcher.py:1: SettingWithCopyWarning: \n",
            "A value is trying to be set on a copy of a slice from a DataFrame.\n",
            "Try using .loc[row_indexer,col_indexer] = value instead\n",
            "\n",
            "See the caveats in the documentation: http://pandas.pydata.org/pandas-docs/stable/indexing.html#indexing-view-versus-copy\n",
            "  \"\"\"Entry point for launching an IPython kernel.\n"
          ],
          "name": "stderr"
        }
      ]
    },
    {
      "cell_type": "code",
      "metadata": {
        "id": "eRpLWqvzlP_i",
        "colab_type": "code",
        "colab": {}
      },
      "source": [
        "X3 = dat3[['stn_code','state','location','type','location_monitoring_station','date']]\n",
        "Y3 = dat3['rspm']"
      ],
      "execution_count": 0,
      "outputs": []
    },
    {
      "cell_type": "code",
      "metadata": {
        "id": "ttgGf5zMlQXR",
        "colab_type": "code",
        "outputId": "4dead391-0c20-482c-edea-edb2e8105059",
        "colab": {
          "base_uri": "https://localhost:8080/",
          "height": 173
        }
      },
      "source": [
        "X_train3, X_test3, Y_train3, Y_test3 = train_test_split(X3,Y3,test_size=0.2,random_state=0)\n",
        "regressor.fit(X_train3,np.array(Y_train3).reshape(Y_train3.shape[0],1))"
      ],
      "execution_count": 0,
      "outputs": [
        {
          "output_type": "stream",
          "text": [
            "/usr/local/lib/python3.6/dist-packages/sklearn/utils/validation.py:724: DataConversionWarning: A column-vector y was passed when a 1d array was expected. Please change the shape of y to (n_samples, ), for example using ravel().\n",
            "  y = column_or_1d(y, warn=True)\n"
          ],
          "name": "stderr"
        },
        {
          "output_type": "execute_result",
          "data": {
            "text/plain": [
              "SGDRegressor(alpha=0.0001, average=False, early_stopping=False, epsilon=0.1,\n",
              "             eta0=0.01, fit_intercept=True, l1_ratio=0.15,\n",
              "             learning_rate='invscaling', loss='squared_loss', max_iter=1000,\n",
              "             n_iter_no_change=5, penalty='l2', power_t=0.25, random_state=None,\n",
              "             shuffle=True, tol=0.001, validation_fraction=0.1, verbose=0,\n",
              "             warm_start=False)"
            ]
          },
          "metadata": {
            "tags": []
          },
          "execution_count": 26
        }
      ]
    },
    {
      "cell_type": "code",
      "metadata": {
        "id": "sjMhFYUol6V5",
        "colab_type": "code",
        "colab": {}
      },
      "source": [
        "pred3 = np.array(regressor.predict(X_test3))\n",
        "\n",
        "cod3 = regressor.score(X_test3,np.array(Y_test3).reshape(Y_test3.shape[0],1))\n",
        "ms3 = mse(pred3,np.array(Y_test3).reshape(Y_test3.shape[0],1))\n",
        "ma3 = mae(pred3,np.array(Y_test3).reshape(Y_test3.shape[0],1))"
      ],
      "execution_count": 0,
      "outputs": []
    },
    {
      "cell_type": "code",
      "metadata": {
        "id": "9m8s0oUXmU-D",
        "colab_type": "code",
        "outputId": "39db4728-d2fc-4a6c-86ce-98ba4116d5cb",
        "colab": {
          "base_uri": "https://localhost:8080/",
          "height": 272
        }
      },
      "source": [
        "print('*** Evaluation metrics for RSPM ***\\n')\n",
        "print('Coeff. of Determination: ',cod3)\n",
        "print('Mean Squared Error: ',ms3)\n",
        "print('Root Mean Sqaured Error: ',ms3**0.5)\n",
        "print('Mean Absolute Error: ',ma3)\n",
        "a = pd.DataFrame(Y_test3)\n",
        "a['pred']= regressor.predict(X_test3)\n",
        "print('\\n\\tTable 3\\n')\n",
        "print(a.head())"
      ],
      "execution_count": 0,
      "outputs": [
        {
          "output_type": "stream",
          "text": [
            "*** Evaluation metrics for RSPM ***\n",
            "\n",
            "Coeff. of Determination:  -3.0545800209790664e+34\n",
            "Mean Squared Error:  1.5461400562653114e+38\n",
            "Root Mean Sqaured Error:  1.2434388027825541e+19\n",
            "Mean Absolute Error:  1.2434186910271107e+19\n",
            "\n",
            "\tTable 3\n",
            "\n",
            "         rspm          pred\n",
            "274062  62.00  1.242554e+19\n",
            "23326   89.00  1.244739e+19\n",
            "265968  21.00  1.245296e+19\n",
            "431607  85.67  1.248329e+19\n",
            "28844   39.00  1.244245e+19\n"
          ],
          "name": "stdout"
        }
      ]
    },
    {
      "cell_type": "markdown",
      "metadata": {
        "id": "PJFSP82jm40M",
        "colab_type": "text"
      },
      "source": [
        "###Suspended Particulate Matter"
      ]
    },
    {
      "cell_type": "code",
      "metadata": {
        "colab_type": "code",
        "id": "1RbtJZX9nAUa",
        "colab": {}
      },
      "source": [
        "dat4 = data[['stn_code','state','location','type','spm','location_monitoring_station','date']]"
      ],
      "execution_count": 0,
      "outputs": []
    },
    {
      "cell_type": "code",
      "metadata": {
        "colab_type": "code",
        "id": "VieXaSr-nAUi",
        "outputId": "cb51f68a-7696-449f-ab7e-dae51a9fd124",
        "colab": {
          "base_uri": "https://localhost:8080/",
          "height": 119
        }
      },
      "source": [
        "dat4['spm'] = dat4['spm'].fillna(np.mean(dat4['spm']),axis=0)"
      ],
      "execution_count": 0,
      "outputs": [
        {
          "output_type": "stream",
          "text": [
            "/usr/local/lib/python3.6/dist-packages/ipykernel_launcher.py:1: SettingWithCopyWarning: \n",
            "A value is trying to be set on a copy of a slice from a DataFrame.\n",
            "Try using .loc[row_indexer,col_indexer] = value instead\n",
            "\n",
            "See the caveats in the documentation: http://pandas.pydata.org/pandas-docs/stable/indexing.html#indexing-view-versus-copy\n",
            "  \"\"\"Entry point for launching an IPython kernel.\n"
          ],
          "name": "stderr"
        }
      ]
    },
    {
      "cell_type": "code",
      "metadata": {
        "colab_type": "code",
        "id": "JVQL9e68nAUq",
        "colab": {}
      },
      "source": [
        "X4 = dat4[['stn_code','state','location','type','location_monitoring_station','date']]\n",
        "Y4 = dat4['spm']"
      ],
      "execution_count": 0,
      "outputs": []
    },
    {
      "cell_type": "code",
      "metadata": {
        "colab_type": "code",
        "id": "iaTe7AHMnAUv",
        "outputId": "d55573ec-e621-4dd4-8369-88294c5ccb87",
        "colab": {
          "base_uri": "https://localhost:8080/",
          "height": 173
        }
      },
      "source": [
        "X_train4, X_test4, Y_train4, Y_test4 = train_test_split(X4,Y4,test_size=0.2,random_state=0)\n",
        "regressor.fit(X_train4,np.array(Y_train4).reshape(Y_train4.shape[0],1))"
      ],
      "execution_count": 0,
      "outputs": [
        {
          "output_type": "stream",
          "text": [
            "/usr/local/lib/python3.6/dist-packages/sklearn/utils/validation.py:724: DataConversionWarning: A column-vector y was passed when a 1d array was expected. Please change the shape of y to (n_samples, ), for example using ravel().\n",
            "  y = column_or_1d(y, warn=True)\n"
          ],
          "name": "stderr"
        },
        {
          "output_type": "execute_result",
          "data": {
            "text/plain": [
              "SGDRegressor(alpha=0.0001, average=False, early_stopping=False, epsilon=0.1,\n",
              "             eta0=0.01, fit_intercept=True, l1_ratio=0.15,\n",
              "             learning_rate='invscaling', loss='squared_loss', max_iter=1000,\n",
              "             n_iter_no_change=5, penalty='l2', power_t=0.25, random_state=None,\n",
              "             shuffle=True, tol=0.001, validation_fraction=0.1, verbose=0,\n",
              "             warm_start=False)"
            ]
          },
          "metadata": {
            "tags": []
          },
          "execution_count": 32
        }
      ]
    },
    {
      "cell_type": "code",
      "metadata": {
        "colab_type": "code",
        "id": "rA8sYHZxnAU1",
        "colab": {}
      },
      "source": [
        "pred4 = np.array(regressor.predict(X_test4))\n",
        "\n",
        "cod4 = regressor.score(X_test4,np.array(Y_test4).reshape(Y_test4.shape[0],1))\n",
        "ms4 = mse(pred4,np.array(Y_test4).reshape(Y_test4.shape[0],1))\n",
        "ma4 = mae(pred4,np.array(Y_test4).reshape(Y_test4.shape[0],1))"
      ],
      "execution_count": 0,
      "outputs": []
    },
    {
      "cell_type": "code",
      "metadata": {
        "colab_type": "code",
        "id": "YMmmyNNDnAU5",
        "outputId": "4f841152-cebf-4786-b796-b86d6a2af3f7",
        "colab": {
          "base_uri": "https://localhost:8080/",
          "height": 272
        }
      },
      "source": [
        "print('*** Evaluation metrics for SPM ***\\n')\n",
        "print('Coeff. of Determination: ',cod4)\n",
        "print('Mean Squared Error: ',ms4)\n",
        "print('Root Mean Sqaured Error: ',ms4**0.5)\n",
        "print('Mean Absolute Error: ',ma4)\n",
        "a = pd.DataFrame(Y_test4)\n",
        "a['pred']= regressor.predict(X_test4)\n",
        "print('\\n\\tTable 4\\n')\n",
        "print(a.head())"
      ],
      "execution_count": 0,
      "outputs": [
        {
          "output_type": "stream",
          "text": [
            "*** Evaluation metrics for SPM ***\n",
            "\n",
            "Coeff. of Determination:  -5.704285723624648e+35\n",
            "Mean Squared Error:  6.068040755500225e+39\n",
            "Root Mean Sqaured Error:  7.789762997357638e+19\n",
            "Mean Absolute Error:  7.789651033576042e+19\n",
            "\n",
            "\tTable 4\n",
            "\n",
            "              spm          pred\n",
            "274062  158.00000 -7.781767e+19\n",
            "23326   220.78348 -7.804845e+19\n",
            "265968  220.78348 -7.811840e+19\n",
            "431607  220.78348 -7.802837e+19\n",
            "28844    59.00000 -7.780576e+19\n"
          ],
          "name": "stdout"
        }
      ]
    },
    {
      "cell_type": "markdown",
      "metadata": {
        "id": "JAUsbEFro7mR",
        "colab_type": "text"
      },
      "source": [
        "###Particulate Matter 2.5 (PM2.5)"
      ]
    },
    {
      "cell_type": "code",
      "metadata": {
        "colab_type": "code",
        "id": "o-7lZ5JqpEKt",
        "colab": {}
      },
      "source": [
        "dat5 = data[['stn_code','state','location','type','pm2_5','location_monitoring_station','date']]"
      ],
      "execution_count": 0,
      "outputs": []
    },
    {
      "cell_type": "code",
      "metadata": {
        "colab_type": "code",
        "id": "4ebwyQLWpEKz",
        "outputId": "8a214796-9422-4a19-c540-95f7aa0b2b45",
        "colab": {
          "base_uri": "https://localhost:8080/",
          "height": 119
        }
      },
      "source": [
        "dat5['pm2_5'] = dat5['pm2_5'].fillna(np.mean(dat5['pm2_5']),axis=0)"
      ],
      "execution_count": 0,
      "outputs": [
        {
          "output_type": "stream",
          "text": [
            "/usr/local/lib/python3.6/dist-packages/ipykernel_launcher.py:1: SettingWithCopyWarning: \n",
            "A value is trying to be set on a copy of a slice from a DataFrame.\n",
            "Try using .loc[row_indexer,col_indexer] = value instead\n",
            "\n",
            "See the caveats in the documentation: http://pandas.pydata.org/pandas-docs/stable/indexing.html#indexing-view-versus-copy\n",
            "  \"\"\"Entry point for launching an IPython kernel.\n"
          ],
          "name": "stderr"
        }
      ]
    },
    {
      "cell_type": "code",
      "metadata": {
        "colab_type": "code",
        "id": "FUcU1GujpEK4",
        "colab": {}
      },
      "source": [
        "X5 = dat5[['stn_code','state','location','type','location_monitoring_station','date']]\n",
        "Y5 = dat5['pm2_5']"
      ],
      "execution_count": 0,
      "outputs": []
    },
    {
      "cell_type": "code",
      "metadata": {
        "colab_type": "code",
        "id": "tcEO-BG0pEK9",
        "outputId": "b05664e8-cf5c-4369-8b20-6f6534582599",
        "colab": {
          "base_uri": "https://localhost:8080/",
          "height": 173
        }
      },
      "source": [
        "X_train5, X_test5, Y_train5, Y_test5 = train_test_split(X5,Y5,test_size=0.2,random_state=0)\n",
        "regressor.fit(X_train5,np.array(Y_train5).reshape(Y_train5.shape[0],1))"
      ],
      "execution_count": 0,
      "outputs": [
        {
          "output_type": "stream",
          "text": [
            "/usr/local/lib/python3.6/dist-packages/sklearn/utils/validation.py:724: DataConversionWarning: A column-vector y was passed when a 1d array was expected. Please change the shape of y to (n_samples, ), for example using ravel().\n",
            "  y = column_or_1d(y, warn=True)\n"
          ],
          "name": "stderr"
        },
        {
          "output_type": "execute_result",
          "data": {
            "text/plain": [
              "SGDRegressor(alpha=0.0001, average=False, early_stopping=False, epsilon=0.1,\n",
              "             eta0=0.01, fit_intercept=True, l1_ratio=0.15,\n",
              "             learning_rate='invscaling', loss='squared_loss', max_iter=1000,\n",
              "             n_iter_no_change=5, penalty='l2', power_t=0.25, random_state=None,\n",
              "             shuffle=True, tol=0.001, validation_fraction=0.1, verbose=0,\n",
              "             warm_start=False)"
            ]
          },
          "metadata": {
            "tags": []
          },
          "execution_count": 38
        }
      ]
    },
    {
      "cell_type": "code",
      "metadata": {
        "colab_type": "code",
        "id": "VSMDTp_lpEK_",
        "colab": {}
      },
      "source": [
        "pred5 = np.array(regressor.predict(X_test5))\n",
        "\n",
        "cod5 = regressor.score(X_test5,np.array(Y_test5).reshape(Y_test5.shape[0],1))\n",
        "ms5 = mse(pred5,np.array(Y_test5).reshape(Y_test5.shape[0],1))\n",
        "ma5 = mae(pred5,np.array(Y_test5).reshape(Y_test5.shape[0],1))"
      ],
      "execution_count": 0,
      "outputs": []
    },
    {
      "cell_type": "code",
      "metadata": {
        "colab_type": "code",
        "id": "tkuQoH1KpELC",
        "outputId": "0cc26fee-2091-421d-8ec1-b53596847d46",
        "colab": {
          "base_uri": "https://localhost:8080/",
          "height": 272
        }
      },
      "source": [
        "print('*** Evaluation metrics for PM2.5 ***\\n')\n",
        "print('Coeff. of Determination: ',cod5)\n",
        "print('Mean Squared Error: ',ms5)\n",
        "print('Root Mean Sqaured Error: ',ms5**0.5)\n",
        "print('Mean Absolute Error: ',ma5)\n",
        "a = pd.DataFrame(Y_test5)\n",
        "a['pred']= regressor.predict(X_test5)\n",
        "print('\\n\\tTable 5\\n')\n",
        "print(a.head())"
      ],
      "execution_count": 0,
      "outputs": [
        {
          "output_type": "stream",
          "text": [
            "*** Evaluation metrics for PM2.5 ***\n",
            "\n",
            "Coeff. of Determination:  -2.3576713384604942e+36\n",
            "Mean Squared Error:  4.912572378612708e+37\n",
            "Root Mean Sqaured Error:  7.00897451744027e+18\n",
            "Mean Absolute Error:  7.008837585752474e+18\n",
            "\n",
            "\tTable 5\n",
            "\n",
            "            pm2_5          pred\n",
            "274062  40.791467 -6.981314e+18\n",
            "23326   40.791467 -7.034423e+18\n",
            "265968  40.791467 -7.043948e+18\n",
            "431607  40.791467 -7.011502e+18\n",
            "28844   40.791467 -6.978577e+18\n"
          ],
          "name": "stdout"
        }
      ]
    },
    {
      "cell_type": "markdown",
      "metadata": {
        "id": "VMYZysqztYvS",
        "colab_type": "text"
      },
      "source": [
        "##Visualization"
      ]
    },
    {
      "cell_type": "code",
      "metadata": {
        "id": "-xu8l2X7taRI",
        "colab_type": "code",
        "colab": {}
      },
      "source": [
        "import matplotlib.pyplot as plt"
      ],
      "execution_count": 0,
      "outputs": []
    },
    {
      "cell_type": "code",
      "metadata": {
        "id": "jw_dB8XWuSIo",
        "colab_type": "code",
        "colab": {}
      },
      "source": [
        "def plotter(ht,title):\n",
        "  label = ['so2','no2','rspm','spm','pm2_5']\n",
        "  quant = ht\n",
        "  index = np.arange(len(label))\n",
        "  colors= ['r','g','b','m','c']\n",
        "  plt.title(title,loc='right')\n",
        "  plt.plot(quant,color=np.random.choice(colors),marker='*')\n",
        "  plt.bar(index,quant,color=np.random.choice(colors))\n",
        "  \n",
        "  plt.xlabel('Components', fontsize=10)\n",
        "  plt.ylabel('Results', fontsize=10)\n",
        "  plt.xticks(index, label, fontsize=10)\n",
        "  plt.show()"
      ],
      "execution_count": 0,
      "outputs": []
    },
    {
      "cell_type": "code",
      "metadata": {
        "id": "MR9DNrDDvgBZ",
        "colab_type": "code",
        "colab": {}
      },
      "source": [
        "coef_of_deter = [cod1,cod2,cod3,cod4,cod5]\n",
        "msqe = [ms1,ms2,ms3,ms4,ms5]\n",
        "mabs = [ma1,ma2,ma3,ma4,ma5]\n",
        "\n"
      ],
      "execution_count": 0,
      "outputs": []
    },
    {
      "cell_type": "markdown",
      "metadata": {
        "id": "PGDpORzCyHwM",
        "colab_type": "text"
      },
      "source": [
        "###Coefficient of Determination"
      ]
    },
    {
      "cell_type": "code",
      "metadata": {
        "id": "MJuX8Gu9wLEe",
        "colab_type": "code",
        "outputId": "953f4944-05af-4cc8-b838-a78190d3359f",
        "colab": {
          "base_uri": "https://localhost:8080/",
          "height": 296
        }
      },
      "source": [
        "plotter(ht=coef_of_deter,title='Coefficient of Determination')"
      ],
      "execution_count": 0,
      "outputs": [
        {
          "output_type": "display_data",
          "data": {
            "image/png": "[encoded data removed]",
            "text/plain": [
              "<Figure size 432x288 with 1 Axes>"
            ]
          },
          "metadata": {
            "tags": []
          }
        }
      ]
    },
    {
      "cell_type": "markdown",
      "metadata": {
        "id": "Xo_LW7TD1D5A",
        "colab_type": "text"
      },
      "source": [
        "###Mean Absolute Error"
      ]
    },
    {
      "cell_type": "code",
      "metadata": {
        "id": "XAPU6LW11G0q",
        "colab_type": "code",
        "outputId": "ba342095-bcd8-4142-9737-f48df4cc5bac",
        "colab": {
          "base_uri": "https://localhost:8080/",
          "height": 296
        }
      },
      "source": [
        "plotter(ht=mabs,title='Mean Absolute Error')"
      ],
      "execution_count": 0,
      "outputs": [
        {
          "output_type": "display_data",
          "data": {
            "image/png": "[encoded data removed]",
            "text/plain": [
              "<Figure size 432x288 with 1 Axes>"
            ]
          },
          "metadata": {
            "tags": []
          }
        }
      ]
    },
    {
      "cell_type": "markdown",
      "metadata": {
        "id": "1PSzD37M3--4",
        "colab_type": "text"
      },
      "source": [
        "###Mean Squared Error"
      ]
    },
    {
      "cell_type": "code",
      "metadata": {
        "id": "_6hSV7wy1ZJ6",
        "colab_type": "code",
        "outputId": "2a5a3fb9-b530-4850-93a2-7a74a00732c0",
        "colab": {
          "base_uri": "https://localhost:8080/",
          "height": 296
        }
      },
      "source": [
        "plotter(ht=msqe,title='Mean Squared Error')"
      ],
      "execution_count": 0,
      "outputs": [
        {
          "output_type": "display_data",
          "data": {
            "image/png": "[encoded data removed]",
            "text/plain": [
              "<Figure size 432x288 with 1 Axes>"
            ]
          },
          "metadata": {
            "tags": []
          }
        }
      ]
    },
    {
      "cell_type": "code",
      "metadata": {
        "id": "cZBG4Fao5ci2",
        "colab_type": "code",
        "colab": {}
      },
      "source": [
        ""
      ],
      "execution_count": 0,
      "outputs": []
    }
  ]
}